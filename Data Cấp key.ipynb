{
 "cells": [
  {
   "cell_type": "code",
   "execution_count": 1,
   "metadata": {},
   "outputs": [],
   "source": [
    "#NOTE : Chi Du Doan duoc so ngay tiep theo vi data con it  "
   ]
  },
  {
   "cell_type": "code",
   "execution_count": 2,
   "metadata": {},
   "outputs": [],
   "source": [
    "import pyodbc\n",
    "import pandas as pd"
   ]
  },
  {
   "cell_type": "code",
   "execution_count": 3,
   "metadata": {},
   "outputs": [],
   "source": [
    "server = '172.20.02.110' \n",
    "database = 'RecommendDB' \n",
    "username = 'longth17' \n",
    "password = 'rm!t1997' \n",
    "cnxn = pyodbc.connect('DRIVER={ODBC Driver 17 for SQL Server};SERVER='+server+';DATABASE='+database+';UID='+username+';PWD='+ password)\n",
    "cursor = cnxn.cursor()"
   ]
  },
  {
   "cell_type": "code",
   "execution_count": 4,
   "metadata": {},
   "outputs": [
    {
     "data": {
      "text/html": [
       "<div>\n",
       "<style scoped>\n",
       "    .dataframe tbody tr th:only-of-type {\n",
       "        vertical-align: middle;\n",
       "    }\n",
       "\n",
       "    .dataframe tbody tr th {\n",
       "        vertical-align: top;\n",
       "    }\n",
       "\n",
       "    .dataframe thead th {\n",
       "        text-align: right;\n",
       "    }\n",
       "</style>\n",
       "<table border=\"1\" class=\"dataframe\">\n",
       "  <thead>\n",
       "    <tr style=\"text-align: right;\">\n",
       "      <th></th>\n",
       "      <th>Date</th>\n",
       "      <th>Type</th>\n",
       "      <th>DateTime</th>\n",
       "      <th>TotalActive</th>\n",
       "      <th>TotalActiveBox</th>\n",
       "    </tr>\n",
       "  </thead>\n",
       "  <tbody>\n",
       "    <tr>\n",
       "      <th>0</th>\n",
       "      <td>06/04-31/03/2019</td>\n",
       "      <td>Weekly</td>\n",
       "      <td>2019-04-06</td>\n",
       "      <td>764666</td>\n",
       "      <td>863223</td>\n",
       "    </tr>\n",
       "    <tr>\n",
       "      <th>1</th>\n",
       "      <td>29-05-2018</td>\n",
       "      <td>Daily</td>\n",
       "      <td>2018-05-29</td>\n",
       "      <td>677481</td>\n",
       "      <td>766182</td>\n",
       "    </tr>\n",
       "    <tr>\n",
       "      <th>2</th>\n",
       "      <td>13-04-2020</td>\n",
       "      <td>Daily UserProfile</td>\n",
       "      <td>2020-04-13</td>\n",
       "      <td>1324</td>\n",
       "      <td>1298</td>\n",
       "    </tr>\n",
       "    <tr>\n",
       "      <th>3</th>\n",
       "      <td>20-11-2017</td>\n",
       "      <td>Daily UserProfile</td>\n",
       "      <td>2017-11-20</td>\n",
       "      <td>2666</td>\n",
       "      <td>2472</td>\n",
       "    </tr>\n",
       "    <tr>\n",
       "      <th>4</th>\n",
       "      <td>28/02-28/01/2019</td>\n",
       "      <td>Monthly</td>\n",
       "      <td>2019-02-28</td>\n",
       "      <td>968772</td>\n",
       "      <td>1124867</td>\n",
       "    </tr>\n",
       "    <tr>\n",
       "      <th>...</th>\n",
       "      <td>...</td>\n",
       "      <td>...</td>\n",
       "      <td>...</td>\n",
       "      <td>...</td>\n",
       "      <td>...</td>\n",
       "    </tr>\n",
       "    <tr>\n",
       "      <th>5739</th>\n",
       "      <td>30/10-24/10/2019</td>\n",
       "      <td>Weekly UserProfile</td>\n",
       "      <td>2019-10-30</td>\n",
       "      <td>6357</td>\n",
       "      <td>5901</td>\n",
       "    </tr>\n",
       "    <tr>\n",
       "      <th>5740</th>\n",
       "      <td>14/10-08/10/2017</td>\n",
       "      <td>Weekly UserProfile</td>\n",
       "      <td>2017-10-14</td>\n",
       "      <td>9853</td>\n",
       "      <td>8892</td>\n",
       "    </tr>\n",
       "    <tr>\n",
       "      <th>5741</th>\n",
       "      <td>23/04-23/03/2019</td>\n",
       "      <td>Monthly UserProfile</td>\n",
       "      <td>2019-04-23</td>\n",
       "      <td>26156</td>\n",
       "      <td>22761</td>\n",
       "    </tr>\n",
       "    <tr>\n",
       "      <th>5742</th>\n",
       "      <td>15/09-09/09/2019</td>\n",
       "      <td>Weekly UserProfile</td>\n",
       "      <td>2019-09-15</td>\n",
       "      <td>6639</td>\n",
       "      <td>5797</td>\n",
       "    </tr>\n",
       "    <tr>\n",
       "      <th>5743</th>\n",
       "      <td>24/04-24/03/2019</td>\n",
       "      <td>Monthly UserProfile</td>\n",
       "      <td>2019-04-24</td>\n",
       "      <td>26075</td>\n",
       "      <td>22709</td>\n",
       "    </tr>\n",
       "  </tbody>\n",
       "</table>\n",
       "<p>5744 rows × 5 columns</p>\n",
       "</div>"
      ],
      "text/plain": [
       "                  Date                 Type    DateTime  TotalActive  \\\n",
       "0     06/04-31/03/2019               Weekly  2019-04-06       764666   \n",
       "1           29-05-2018                Daily  2018-05-29       677481   \n",
       "2           13-04-2020    Daily UserProfile  2020-04-13         1324   \n",
       "3           20-11-2017    Daily UserProfile  2017-11-20         2666   \n",
       "4     28/02-28/01/2019              Monthly  2019-02-28       968772   \n",
       "...                ...                  ...         ...          ...   \n",
       "5739  30/10-24/10/2019   Weekly UserProfile  2019-10-30         6357   \n",
       "5740  14/10-08/10/2017   Weekly UserProfile  2017-10-14         9853   \n",
       "5741  23/04-23/03/2019  Monthly UserProfile  2019-04-23        26156   \n",
       "5742  15/09-09/09/2019   Weekly UserProfile  2019-09-15         6639   \n",
       "5743  24/04-24/03/2019  Monthly UserProfile  2019-04-24        26075   \n",
       "\n",
       "      TotalActiveBox  \n",
       "0             863223  \n",
       "1             766182  \n",
       "2               1298  \n",
       "3               2472  \n",
       "4            1124867  \n",
       "...              ...  \n",
       "5739            5901  \n",
       "5740            8892  \n",
       "5741           22761  \n",
       "5742            5797  \n",
       "5743           22709  \n",
       "\n",
       "[5744 rows x 5 columns]"
      ]
     },
     "execution_count": 4,
     "metadata": {},
     "output_type": "execute_result"
    }
   ],
   "source": [
    "df = pd.read_sql_query('select * from PBI_Overview_BoxUsage', cnxn)\n",
    "df"
   ]
  },
  {
   "cell_type": "code",
   "execution_count": 5,
   "metadata": {},
   "outputs": [],
   "source": [
    "df[\"DateTime\"] = pd.to_datetime(df[\"DateTime\"])"
   ]
  },
  {
   "cell_type": "code",
   "execution_count": 6,
   "metadata": {},
   "outputs": [],
   "source": [
    "df = df.drop(['Date'],1)"
   ]
  },
  {
   "cell_type": "code",
   "execution_count": 7,
   "metadata": {},
   "outputs": [],
   "source": [
    "df = df.loc[df['Type'] == 'Daily']"
   ]
  },
  {
   "cell_type": "code",
   "execution_count": 8,
   "metadata": {},
   "outputs": [],
   "source": [
    "df = df[df['DateTime'] < '2020-05-17']"
   ]
  },
  {
   "cell_type": "code",
   "execution_count": 9,
   "metadata": {},
   "outputs": [],
   "source": [
    "df = df[df['DateTime'] >= '2020-04-03']"
   ]
  },
  {
   "cell_type": "code",
   "execution_count": 10,
   "metadata": {},
   "outputs": [],
   "source": [
    "df = df.sort_values('DateTime', ascending = False)"
   ]
  },
  {
   "cell_type": "code",
   "execution_count": 11,
   "metadata": {},
   "outputs": [],
   "source": [
    "df = df.drop(['Type'],1)"
   ]
  },
  {
   "cell_type": "code",
   "execution_count": 12,
   "metadata": {},
   "outputs": [
    {
     "data": {
      "text/html": [
       "<div>\n",
       "<style scoped>\n",
       "    .dataframe tbody tr th:only-of-type {\n",
       "        vertical-align: middle;\n",
       "    }\n",
       "\n",
       "    .dataframe tbody tr th {\n",
       "        vertical-align: top;\n",
       "    }\n",
       "\n",
       "    .dataframe thead th {\n",
       "        text-align: right;\n",
       "    }\n",
       "</style>\n",
       "<table border=\"1\" class=\"dataframe\">\n",
       "  <thead>\n",
       "    <tr style=\"text-align: right;\">\n",
       "      <th></th>\n",
       "      <th>DateTime</th>\n",
       "      <th>TotalActive</th>\n",
       "      <th>TotalActiveBox</th>\n",
       "    </tr>\n",
       "  </thead>\n",
       "  <tbody>\n",
       "    <tr>\n",
       "      <th>2086</th>\n",
       "      <td>2020-05-16</td>\n",
       "      <td>1085908</td>\n",
       "      <td>1201262</td>\n",
       "    </tr>\n",
       "    <tr>\n",
       "      <th>2781</th>\n",
       "      <td>2020-05-15</td>\n",
       "      <td>1085138</td>\n",
       "      <td>1200948</td>\n",
       "    </tr>\n",
       "    <tr>\n",
       "      <th>3979</th>\n",
       "      <td>2020-05-14</td>\n",
       "      <td>1060296</td>\n",
       "      <td>1169755</td>\n",
       "    </tr>\n",
       "    <tr>\n",
       "      <th>5200</th>\n",
       "      <td>2020-05-13</td>\n",
       "      <td>1110616</td>\n",
       "      <td>1232843</td>\n",
       "    </tr>\n",
       "    <tr>\n",
       "      <th>3754</th>\n",
       "      <td>2020-05-12</td>\n",
       "      <td>1085211</td>\n",
       "      <td>1201232</td>\n",
       "    </tr>\n",
       "    <tr>\n",
       "      <th>455</th>\n",
       "      <td>2020-05-11</td>\n",
       "      <td>1077497</td>\n",
       "      <td>1192738</td>\n",
       "    </tr>\n",
       "    <tr>\n",
       "      <th>2452</th>\n",
       "      <td>2020-05-10</td>\n",
       "      <td>1084059</td>\n",
       "      <td>1200091</td>\n",
       "    </tr>\n",
       "    <tr>\n",
       "      <th>5339</th>\n",
       "      <td>2020-05-09</td>\n",
       "      <td>1075984</td>\n",
       "      <td>1190623</td>\n",
       "    </tr>\n",
       "    <tr>\n",
       "      <th>4581</th>\n",
       "      <td>2020-05-08</td>\n",
       "      <td>1078816</td>\n",
       "      <td>1194697</td>\n",
       "    </tr>\n",
       "    <tr>\n",
       "      <th>965</th>\n",
       "      <td>2020-05-07</td>\n",
       "      <td>1086349</td>\n",
       "      <td>1203614</td>\n",
       "    </tr>\n",
       "    <tr>\n",
       "      <th>3432</th>\n",
       "      <td>2020-05-06</td>\n",
       "      <td>1082500</td>\n",
       "      <td>1199292</td>\n",
       "    </tr>\n",
       "    <tr>\n",
       "      <th>3966</th>\n",
       "      <td>2020-05-05</td>\n",
       "      <td>1099384</td>\n",
       "      <td>1220451</td>\n",
       "    </tr>\n",
       "    <tr>\n",
       "      <th>3745</th>\n",
       "      <td>2020-05-04</td>\n",
       "      <td>1104250</td>\n",
       "      <td>1226082</td>\n",
       "    </tr>\n",
       "    <tr>\n",
       "      <th>1706</th>\n",
       "      <td>2020-05-03</td>\n",
       "      <td>1084229</td>\n",
       "      <td>1200860</td>\n",
       "    </tr>\n",
       "    <tr>\n",
       "      <th>5132</th>\n",
       "      <td>2020-05-02</td>\n",
       "      <td>1046693</td>\n",
       "      <td>1157728</td>\n",
       "    </tr>\n",
       "    <tr>\n",
       "      <th>1906</th>\n",
       "      <td>2020-05-01</td>\n",
       "      <td>1091779</td>\n",
       "      <td>1215914</td>\n",
       "    </tr>\n",
       "    <tr>\n",
       "      <th>3292</th>\n",
       "      <td>2020-04-30</td>\n",
       "      <td>1054892</td>\n",
       "      <td>1167537</td>\n",
       "    </tr>\n",
       "    <tr>\n",
       "      <th>3795</th>\n",
       "      <td>2020-04-29</td>\n",
       "      <td>1121342</td>\n",
       "      <td>1248888</td>\n",
       "    </tr>\n",
       "    <tr>\n",
       "      <th>3728</th>\n",
       "      <td>2020-04-28</td>\n",
       "      <td>1141952</td>\n",
       "      <td>1274908</td>\n",
       "    </tr>\n",
       "    <tr>\n",
       "      <th>5217</th>\n",
       "      <td>2020-04-27</td>\n",
       "      <td>1109689</td>\n",
       "      <td>1233694</td>\n",
       "    </tr>\n",
       "    <tr>\n",
       "      <th>4739</th>\n",
       "      <td>2020-04-26</td>\n",
       "      <td>1111703</td>\n",
       "      <td>1235187</td>\n",
       "    </tr>\n",
       "    <tr>\n",
       "      <th>211</th>\n",
       "      <td>2020-04-25</td>\n",
       "      <td>1108158</td>\n",
       "      <td>1231619</td>\n",
       "    </tr>\n",
       "    <tr>\n",
       "      <th>5168</th>\n",
       "      <td>2020-04-24</td>\n",
       "      <td>1114392</td>\n",
       "      <td>1239787</td>\n",
       "    </tr>\n",
       "    <tr>\n",
       "      <th>2180</th>\n",
       "      <td>2020-04-23</td>\n",
       "      <td>1112854</td>\n",
       "      <td>1238130</td>\n",
       "    </tr>\n",
       "    <tr>\n",
       "      <th>391</th>\n",
       "      <td>2020-04-22</td>\n",
       "      <td>1116184</td>\n",
       "      <td>1242328</td>\n",
       "    </tr>\n",
       "    <tr>\n",
       "      <th>5451</th>\n",
       "      <td>2020-04-21</td>\n",
       "      <td>1108063</td>\n",
       "      <td>1232510</td>\n",
       "    </tr>\n",
       "    <tr>\n",
       "      <th>2248</th>\n",
       "      <td>2020-04-20</td>\n",
       "      <td>1109059</td>\n",
       "      <td>1233314</td>\n",
       "    </tr>\n",
       "    <tr>\n",
       "      <th>4230</th>\n",
       "      <td>2020-04-19</td>\n",
       "      <td>1109882</td>\n",
       "      <td>1233917</td>\n",
       "    </tr>\n",
       "    <tr>\n",
       "      <th>2639</th>\n",
       "      <td>2020-04-18</td>\n",
       "      <td>1100492</td>\n",
       "      <td>1223197</td>\n",
       "    </tr>\n",
       "    <tr>\n",
       "      <th>3533</th>\n",
       "      <td>2020-04-17</td>\n",
       "      <td>1105717</td>\n",
       "      <td>1230077</td>\n",
       "    </tr>\n",
       "    <tr>\n",
       "      <th>3610</th>\n",
       "      <td>2020-04-16</td>\n",
       "      <td>1107943</td>\n",
       "      <td>1232703</td>\n",
       "    </tr>\n",
       "    <tr>\n",
       "      <th>1531</th>\n",
       "      <td>2020-04-15</td>\n",
       "      <td>1106020</td>\n",
       "      <td>1230265</td>\n",
       "    </tr>\n",
       "    <tr>\n",
       "      <th>5399</th>\n",
       "      <td>2020-04-14</td>\n",
       "      <td>1108862</td>\n",
       "      <td>1233922</td>\n",
       "    </tr>\n",
       "    <tr>\n",
       "      <th>1469</th>\n",
       "      <td>2020-04-13</td>\n",
       "      <td>1110634</td>\n",
       "      <td>1236744</td>\n",
       "    </tr>\n",
       "    <tr>\n",
       "      <th>2413</th>\n",
       "      <td>2020-04-12</td>\n",
       "      <td>1100280</td>\n",
       "      <td>1223303</td>\n",
       "    </tr>\n",
       "    <tr>\n",
       "      <th>2103</th>\n",
       "      <td>2020-04-11</td>\n",
       "      <td>1089804</td>\n",
       "      <td>1211162</td>\n",
       "    </tr>\n",
       "    <tr>\n",
       "      <th>2950</th>\n",
       "      <td>2020-04-10</td>\n",
       "      <td>1092857</td>\n",
       "      <td>1215305</td>\n",
       "    </tr>\n",
       "    <tr>\n",
       "      <th>575</th>\n",
       "      <td>2020-04-09</td>\n",
       "      <td>1099188</td>\n",
       "      <td>1222605</td>\n",
       "    </tr>\n",
       "    <tr>\n",
       "      <th>1389</th>\n",
       "      <td>2020-04-08</td>\n",
       "      <td>1099343</td>\n",
       "      <td>1223426</td>\n",
       "    </tr>\n",
       "    <tr>\n",
       "      <th>5017</th>\n",
       "      <td>2020-04-07</td>\n",
       "      <td>1094444</td>\n",
       "      <td>1217138</td>\n",
       "    </tr>\n",
       "    <tr>\n",
       "      <th>4678</th>\n",
       "      <td>2020-04-06</td>\n",
       "      <td>1096887</td>\n",
       "      <td>1220955</td>\n",
       "    </tr>\n",
       "    <tr>\n",
       "      <th>4138</th>\n",
       "      <td>2020-04-05</td>\n",
       "      <td>1072453</td>\n",
       "      <td>1190404</td>\n",
       "    </tr>\n",
       "    <tr>\n",
       "      <th>5162</th>\n",
       "      <td>2020-04-04</td>\n",
       "      <td>1047728</td>\n",
       "      <td>1162094</td>\n",
       "    </tr>\n",
       "    <tr>\n",
       "      <th>230</th>\n",
       "      <td>2020-04-03</td>\n",
       "      <td>1092968</td>\n",
       "      <td>1216456</td>\n",
       "    </tr>\n",
       "  </tbody>\n",
       "</table>\n",
       "</div>"
      ],
      "text/plain": [
       "       DateTime  TotalActive  TotalActiveBox\n",
       "2086 2020-05-16      1085908         1201262\n",
       "2781 2020-05-15      1085138         1200948\n",
       "3979 2020-05-14      1060296         1169755\n",
       "5200 2020-05-13      1110616         1232843\n",
       "3754 2020-05-12      1085211         1201232\n",
       "455  2020-05-11      1077497         1192738\n",
       "2452 2020-05-10      1084059         1200091\n",
       "5339 2020-05-09      1075984         1190623\n",
       "4581 2020-05-08      1078816         1194697\n",
       "965  2020-05-07      1086349         1203614\n",
       "3432 2020-05-06      1082500         1199292\n",
       "3966 2020-05-05      1099384         1220451\n",
       "3745 2020-05-04      1104250         1226082\n",
       "1706 2020-05-03      1084229         1200860\n",
       "5132 2020-05-02      1046693         1157728\n",
       "1906 2020-05-01      1091779         1215914\n",
       "3292 2020-04-30      1054892         1167537\n",
       "3795 2020-04-29      1121342         1248888\n",
       "3728 2020-04-28      1141952         1274908\n",
       "5217 2020-04-27      1109689         1233694\n",
       "4739 2020-04-26      1111703         1235187\n",
       "211  2020-04-25      1108158         1231619\n",
       "5168 2020-04-24      1114392         1239787\n",
       "2180 2020-04-23      1112854         1238130\n",
       "391  2020-04-22      1116184         1242328\n",
       "5451 2020-04-21      1108063         1232510\n",
       "2248 2020-04-20      1109059         1233314\n",
       "4230 2020-04-19      1109882         1233917\n",
       "2639 2020-04-18      1100492         1223197\n",
       "3533 2020-04-17      1105717         1230077\n",
       "3610 2020-04-16      1107943         1232703\n",
       "1531 2020-04-15      1106020         1230265\n",
       "5399 2020-04-14      1108862         1233922\n",
       "1469 2020-04-13      1110634         1236744\n",
       "2413 2020-04-12      1100280         1223303\n",
       "2103 2020-04-11      1089804         1211162\n",
       "2950 2020-04-10      1092857         1215305\n",
       "575  2020-04-09      1099188         1222605\n",
       "1389 2020-04-08      1099343         1223426\n",
       "5017 2020-04-07      1094444         1217138\n",
       "4678 2020-04-06      1096887         1220955\n",
       "4138 2020-04-05      1072453         1190404\n",
       "5162 2020-04-04      1047728         1162094\n",
       "230  2020-04-03      1092968         1216456"
      ]
     },
     "execution_count": 12,
     "metadata": {},
     "output_type": "execute_result"
    }
   ],
   "source": [
    "df"
   ]
  },
  {
   "cell_type": "code",
   "execution_count": 13,
   "metadata": {},
   "outputs": [
    {
     "data": {
      "text/plain": [
       "DateTime          datetime64[ns]\n",
       "TotalActive                int64\n",
       "TotalActiveBox             int64\n",
       "dtype: object"
      ]
     },
     "execution_count": 13,
     "metadata": {},
     "output_type": "execute_result"
    }
   ],
   "source": [
    "df.dtypes"
   ]
  },
  {
   "cell_type": "code",
   "execution_count": 14,
   "metadata": {},
   "outputs": [],
   "source": [
    "import pandas as pd\n",
    "import matplotlib as mplt\n",
    "from matplotlib import pyplot as plt \n",
    "import numpy as np \n",
    "import seaborn as sns "
   ]
  },
  {
   "cell_type": "code",
   "execution_count": 15,
   "metadata": {},
   "outputs": [
    {
     "data": {
      "text/html": [
       "<div>\n",
       "<style scoped>\n",
       "    .dataframe tbody tr th:only-of-type {\n",
       "        vertical-align: middle;\n",
       "    }\n",
       "\n",
       "    .dataframe tbody tr th {\n",
       "        vertical-align: top;\n",
       "    }\n",
       "\n",
       "    .dataframe thead th {\n",
       "        text-align: right;\n",
       "    }\n",
       "</style>\n",
       "<table border=\"1\" class=\"dataframe\">\n",
       "  <thead>\n",
       "    <tr style=\"text-align: right;\">\n",
       "      <th></th>\n",
       "      <th>Total</th>\n",
       "      <th>Date</th>\n",
       "    </tr>\n",
       "  </thead>\n",
       "  <tbody>\n",
       "    <tr>\n",
       "      <th>0</th>\n",
       "      <td>4946</td>\n",
       "      <td>2020-05-17</td>\n",
       "    </tr>\n",
       "    <tr>\n",
       "      <th>1</th>\n",
       "      <td>23174</td>\n",
       "      <td>2020-05-16</td>\n",
       "    </tr>\n",
       "    <tr>\n",
       "      <th>2</th>\n",
       "      <td>18828</td>\n",
       "      <td>2020-05-15</td>\n",
       "    </tr>\n",
       "    <tr>\n",
       "      <th>3</th>\n",
       "      <td>18621</td>\n",
       "      <td>2020-05-14</td>\n",
       "    </tr>\n",
       "    <tr>\n",
       "      <th>4</th>\n",
       "      <td>18855</td>\n",
       "      <td>2020-05-13</td>\n",
       "    </tr>\n",
       "    <tr>\n",
       "      <th>5</th>\n",
       "      <td>17852</td>\n",
       "      <td>2020-05-12</td>\n",
       "    </tr>\n",
       "    <tr>\n",
       "      <th>6</th>\n",
       "      <td>18196</td>\n",
       "      <td>2020-05-11</td>\n",
       "    </tr>\n",
       "    <tr>\n",
       "      <th>7</th>\n",
       "      <td>20521</td>\n",
       "      <td>2020-05-10</td>\n",
       "    </tr>\n",
       "    <tr>\n",
       "      <th>8</th>\n",
       "      <td>19794</td>\n",
       "      <td>2020-05-09</td>\n",
       "    </tr>\n",
       "    <tr>\n",
       "      <th>9</th>\n",
       "      <td>18373</td>\n",
       "      <td>2020-05-08</td>\n",
       "    </tr>\n",
       "    <tr>\n",
       "      <th>10</th>\n",
       "      <td>17794</td>\n",
       "      <td>2020-05-07</td>\n",
       "    </tr>\n",
       "    <tr>\n",
       "      <th>11</th>\n",
       "      <td>18536</td>\n",
       "      <td>2020-05-06</td>\n",
       "    </tr>\n",
       "    <tr>\n",
       "      <th>12</th>\n",
       "      <td>18764</td>\n",
       "      <td>2020-05-05</td>\n",
       "    </tr>\n",
       "    <tr>\n",
       "      <th>13</th>\n",
       "      <td>19677</td>\n",
       "      <td>2020-05-04</td>\n",
       "    </tr>\n",
       "    <tr>\n",
       "      <th>14</th>\n",
       "      <td>22013</td>\n",
       "      <td>2020-05-03</td>\n",
       "    </tr>\n",
       "    <tr>\n",
       "      <th>15</th>\n",
       "      <td>19825</td>\n",
       "      <td>2020-05-02</td>\n",
       "    </tr>\n",
       "    <tr>\n",
       "      <th>16</th>\n",
       "      <td>19064</td>\n",
       "      <td>2020-05-01</td>\n",
       "    </tr>\n",
       "    <tr>\n",
       "      <th>17</th>\n",
       "      <td>21433</td>\n",
       "      <td>2020-04-30</td>\n",
       "    </tr>\n",
       "    <tr>\n",
       "      <th>18</th>\n",
       "      <td>21391</td>\n",
       "      <td>2020-04-29</td>\n",
       "    </tr>\n",
       "    <tr>\n",
       "      <th>19</th>\n",
       "      <td>21357</td>\n",
       "      <td>2020-04-28</td>\n",
       "    </tr>\n",
       "    <tr>\n",
       "      <th>20</th>\n",
       "      <td>21785</td>\n",
       "      <td>2020-04-27</td>\n",
       "    </tr>\n",
       "    <tr>\n",
       "      <th>21</th>\n",
       "      <td>24636</td>\n",
       "      <td>2020-04-26</td>\n",
       "    </tr>\n",
       "    <tr>\n",
       "      <th>22</th>\n",
       "      <td>24362</td>\n",
       "      <td>2020-04-25</td>\n",
       "    </tr>\n",
       "    <tr>\n",
       "      <th>23</th>\n",
       "      <td>23285</td>\n",
       "      <td>2020-04-24</td>\n",
       "    </tr>\n",
       "    <tr>\n",
       "      <th>24</th>\n",
       "      <td>22889</td>\n",
       "      <td>2020-04-23</td>\n",
       "    </tr>\n",
       "    <tr>\n",
       "      <th>25</th>\n",
       "      <td>23232</td>\n",
       "      <td>2020-04-22</td>\n",
       "    </tr>\n",
       "    <tr>\n",
       "      <th>26</th>\n",
       "      <td>23831</td>\n",
       "      <td>2020-04-21</td>\n",
       "    </tr>\n",
       "    <tr>\n",
       "      <th>27</th>\n",
       "      <td>23880</td>\n",
       "      <td>2020-04-20</td>\n",
       "    </tr>\n",
       "    <tr>\n",
       "      <th>28</th>\n",
       "      <td>26178</td>\n",
       "      <td>2020-04-19</td>\n",
       "    </tr>\n",
       "    <tr>\n",
       "      <th>29</th>\n",
       "      <td>25696</td>\n",
       "      <td>2020-04-18</td>\n",
       "    </tr>\n",
       "    <tr>\n",
       "      <th>30</th>\n",
       "      <td>24407</td>\n",
       "      <td>2020-04-17</td>\n",
       "    </tr>\n",
       "    <tr>\n",
       "      <th>31</th>\n",
       "      <td>24684</td>\n",
       "      <td>2020-04-16</td>\n",
       "    </tr>\n",
       "    <tr>\n",
       "      <th>32</th>\n",
       "      <td>24729</td>\n",
       "      <td>2020-04-15</td>\n",
       "    </tr>\n",
       "    <tr>\n",
       "      <th>33</th>\n",
       "      <td>24666</td>\n",
       "      <td>2020-04-14</td>\n",
       "    </tr>\n",
       "    <tr>\n",
       "      <th>34</th>\n",
       "      <td>25479</td>\n",
       "      <td>2020-04-13</td>\n",
       "    </tr>\n",
       "    <tr>\n",
       "      <th>35</th>\n",
       "      <td>27369</td>\n",
       "      <td>2020-04-12</td>\n",
       "    </tr>\n",
       "    <tr>\n",
       "      <th>36</th>\n",
       "      <td>26788</td>\n",
       "      <td>2020-04-11</td>\n",
       "    </tr>\n",
       "    <tr>\n",
       "      <th>37</th>\n",
       "      <td>25179</td>\n",
       "      <td>2020-04-10</td>\n",
       "    </tr>\n",
       "    <tr>\n",
       "      <th>38</th>\n",
       "      <td>25519</td>\n",
       "      <td>2020-04-09</td>\n",
       "    </tr>\n",
       "    <tr>\n",
       "      <th>39</th>\n",
       "      <td>25763</td>\n",
       "      <td>2020-04-08</td>\n",
       "    </tr>\n",
       "    <tr>\n",
       "      <th>40</th>\n",
       "      <td>26216</td>\n",
       "      <td>2020-04-07</td>\n",
       "    </tr>\n",
       "    <tr>\n",
       "      <th>41</th>\n",
       "      <td>26265</td>\n",
       "      <td>2020-04-06</td>\n",
       "    </tr>\n",
       "    <tr>\n",
       "      <th>42</th>\n",
       "      <td>29561</td>\n",
       "      <td>2020-04-05</td>\n",
       "    </tr>\n",
       "    <tr>\n",
       "      <th>43</th>\n",
       "      <td>29057</td>\n",
       "      <td>2020-04-04</td>\n",
       "    </tr>\n",
       "    <tr>\n",
       "      <th>44</th>\n",
       "      <td>27845</td>\n",
       "      <td>2020-04-03</td>\n",
       "    </tr>\n",
       "  </tbody>\n",
       "</table>\n",
       "</div>"
      ],
      "text/plain": [
       "    Total        Date\n",
       "0    4946  2020-05-17\n",
       "1   23174  2020-05-16\n",
       "2   18828  2020-05-15\n",
       "3   18621  2020-05-14\n",
       "4   18855  2020-05-13\n",
       "5   17852  2020-05-12\n",
       "6   18196  2020-05-11\n",
       "7   20521  2020-05-10\n",
       "8   19794  2020-05-09\n",
       "9   18373  2020-05-08\n",
       "10  17794  2020-05-07\n",
       "11  18536  2020-05-06\n",
       "12  18764  2020-05-05\n",
       "13  19677  2020-05-04\n",
       "14  22013  2020-05-03\n",
       "15  19825  2020-05-02\n",
       "16  19064  2020-05-01\n",
       "17  21433  2020-04-30\n",
       "18  21391  2020-04-29\n",
       "19  21357  2020-04-28\n",
       "20  21785  2020-04-27\n",
       "21  24636  2020-04-26\n",
       "22  24362  2020-04-25\n",
       "23  23285  2020-04-24\n",
       "24  22889  2020-04-23\n",
       "25  23232  2020-04-22\n",
       "26  23831  2020-04-21\n",
       "27  23880  2020-04-20\n",
       "28  26178  2020-04-19\n",
       "29  25696  2020-04-18\n",
       "30  24407  2020-04-17\n",
       "31  24684  2020-04-16\n",
       "32  24729  2020-04-15\n",
       "33  24666  2020-04-14\n",
       "34  25479  2020-04-13\n",
       "35  27369  2020-04-12\n",
       "36  26788  2020-04-11\n",
       "37  25179  2020-04-10\n",
       "38  25519  2020-04-09\n",
       "39  25763  2020-04-08\n",
       "40  26216  2020-04-07\n",
       "41  26265  2020-04-06\n",
       "42  29561  2020-04-05\n",
       "43  29057  2020-04-04\n",
       "44  27845  2020-04-03"
      ]
     },
     "execution_count": 15,
     "metadata": {},
     "output_type": "execute_result"
    }
   ],
   "source": [
    "sql = \"\"\" \n",
    "-- # Get View BHD # --\n",
    "With\n",
    "ViewFilmBHD as\n",
    "(select distinct A.CustomerID,A.Ftype, cast(A.Date as date) as Date, B.isDRM from Log_BHD_MovieID A\n",
    "left join MV_PropertiesshowVN B on A.MovieID = B.Id\n",
    "where isDRM = 1 and A.Date between '2019-05-01' and getdate()\n",
    "group by A.MovieID,A.Ftype,A.Date,B.isDRM, A.CustomerID)\n",
    "\n",
    "--select count(distinct A.Contract) as Number , Date, Ftype\n",
    "--from ViewMovie A\n",
    "--group by Date, Ftype\n",
    "--order by date desc\n",
    "\n",
    "--#Get View Film Plus # --\n",
    "\n",
    ", ViewFilmPlus as (select\n",
    "Distinct CustomerID,\n",
    "C.FType,\n",
    "cast(C.Date as Date) as Date,\n",
    "B.IsDrm\n",
    "from Log_Fimplus_MovieId C\n",
    "left join MV_PropertiesshowVN B on C.MovieID = B.Id\n",
    "where isDRM = 1 and C.Date between '2019-05-01' and getdate()\n",
    "group by CustomerID, C.Date, B.IsDRM, C.FType )\n",
    "\n",
    "--select count(distinct C.Contract) as Number , Date, Ftype\n",
    "--from ViewMovie2 C\n",
    "--group by Date, Ftype\n",
    "--order by date desc\n",
    "\n",
    "-- # Combine View # --\n",
    ", ViewFilm as (Select distinct v1.CustomerID as CustomerID, Date , Ftype from ViewFilmBHD v1\n",
    "group by v1.CustomerID, Date, Ftype\n",
    "union\n",
    "select distinct v2.CustomerID as Number, Date, Ftype  from ViewFilmPlus v2\n",
    "group by V2.CustomerID, Date, Ftype\n",
    " )\n",
    "\n",
    "-- Danh Sach K+ / Dac Sac\n",
    ", CustomersList as\n",
    "(Select CS.CustomerID,CS.ServiceID\n",
    "from Customers C join CustomerService CS on c.ID = cs.CustomerID\n",
    "where C.Status = 1 AND C.AccountType = 1 and (C.SubStatus is null or C.SubStatus =1 )\n",
    "And c.BoxType = 4 AND (StopDate is null or Stopdate >= Getdate())\n",
    "And C.ID < 10000000 and cs.ToDate  >=cs.Date AND CS.Enable=1 AND c.LocationID<1000 and C.MAC IS NOT NULL\n",
    "and ServiceID in (60,89,148,149,150,154))\n",
    "\n",
    "-- KeyKH Xem DS/K+\n",
    ", TotalKH as\n",
    "(select distinct customerID as CustomerID , cast(DateStamp as Date) as Date, MAC from Log_GetDRM_List\n",
    "where CustomerID != 0\n",
    "group by CustomerID,Cast(DateStamp as Date), MAC)\n",
    "\n",
    "-- Mapping --\n",
    ", Mapping as\n",
    "(Select Distinct T.CustomerID ,T.MAC, T.Date, ServiceID\n",
    "from TotalKH T\n",
    "left join CustomersList L on T.CustomerID = L.CustomerID\n",
    "where ServiceID is not null\n",
    "group by T.CustomerID, T.MAC, T.Date, ServiceID )\n",
    "\n",
    "-- Final Mapping --\n",
    "\n",
    ", Final_Mapping as\n",
    "(Select M.CustomerID, Mac, M.Date, ServiceID , F.FType\n",
    "from Mapping M\n",
    "left join ViewFilm F on M.CustomerID = F.CustomerID\n",
    "group by M.CustomerID,M.Mac,M.Date,M.ServiceID,F.Ftype)\n",
    "\n",
    ",Calculation as\n",
    "(Select CustomerID, Date From Final_Mapping\n",
    "Union all\n",
    "Select CustomerID, Date from ViewFilm\n",
    "where Date between '2020-4-3' and getdate()\n",
    "group by CustomerID,Date )\n",
    "\n",
    "--Lay so Total theo ngay --\n",
    "Select Sum(Ca.Number) as Total, Ca.Date from\n",
    "(select count(CustomerID) as Number,Date\n",
    "From Calculation\n",
    "Group by Date) Ca\n",
    "group by Ca.Date\n",
    "order by Ca.Date desc\n",
    "\"\"\" \n",
    "df2 = pd.read_sql_query(sql, cnxn)\n",
    "df2"
   ]
  },
  {
   "cell_type": "code",
   "execution_count": 16,
   "metadata": {},
   "outputs": [],
   "source": [
    "df2[\"Date\"] = pd.to_datetime(df2[\"Date\"])"
   ]
  },
  {
   "cell_type": "code",
   "execution_count": 17,
   "metadata": {},
   "outputs": [],
   "source": [
    "df2_new = df2[df2['Date'] < '2020-05-17']"
   ]
  },
  {
   "cell_type": "code",
   "execution_count": 18,
   "metadata": {},
   "outputs": [],
   "source": [
    "df2_new = df2_new[df2_new['Date'] >= '2020-05-01']"
   ]
  },
  {
   "cell_type": "code",
   "execution_count": 19,
   "metadata": {},
   "outputs": [
    {
     "data": {
      "text/plain": [
       "Total             int64\n",
       "Date     datetime64[ns]\n",
       "dtype: object"
      ]
     },
     "execution_count": 19,
     "metadata": {},
     "output_type": "execute_result"
    }
   ],
   "source": [
    "df2_new.dtypes"
   ]
  },
  {
   "cell_type": "code",
   "execution_count": 20,
   "metadata": {},
   "outputs": [
    {
     "data": {
      "text/html": [
       "<div>\n",
       "<style scoped>\n",
       "    .dataframe tbody tr th:only-of-type {\n",
       "        vertical-align: middle;\n",
       "    }\n",
       "\n",
       "    .dataframe tbody tr th {\n",
       "        vertical-align: top;\n",
       "    }\n",
       "\n",
       "    .dataframe thead th {\n",
       "        text-align: right;\n",
       "    }\n",
       "</style>\n",
       "<table border=\"1\" class=\"dataframe\">\n",
       "  <thead>\n",
       "    <tr style=\"text-align: right;\">\n",
       "      <th></th>\n",
       "      <th>Total</th>\n",
       "      <th>Date</th>\n",
       "    </tr>\n",
       "  </thead>\n",
       "  <tbody>\n",
       "    <tr>\n",
       "      <th>1</th>\n",
       "      <td>23174</td>\n",
       "      <td>2020-05-16</td>\n",
       "    </tr>\n",
       "    <tr>\n",
       "      <th>2</th>\n",
       "      <td>18828</td>\n",
       "      <td>2020-05-15</td>\n",
       "    </tr>\n",
       "    <tr>\n",
       "      <th>3</th>\n",
       "      <td>18621</td>\n",
       "      <td>2020-05-14</td>\n",
       "    </tr>\n",
       "    <tr>\n",
       "      <th>4</th>\n",
       "      <td>18855</td>\n",
       "      <td>2020-05-13</td>\n",
       "    </tr>\n",
       "    <tr>\n",
       "      <th>5</th>\n",
       "      <td>17852</td>\n",
       "      <td>2020-05-12</td>\n",
       "    </tr>\n",
       "    <tr>\n",
       "      <th>6</th>\n",
       "      <td>18196</td>\n",
       "      <td>2020-05-11</td>\n",
       "    </tr>\n",
       "    <tr>\n",
       "      <th>7</th>\n",
       "      <td>20521</td>\n",
       "      <td>2020-05-10</td>\n",
       "    </tr>\n",
       "    <tr>\n",
       "      <th>8</th>\n",
       "      <td>19794</td>\n",
       "      <td>2020-05-09</td>\n",
       "    </tr>\n",
       "    <tr>\n",
       "      <th>9</th>\n",
       "      <td>18373</td>\n",
       "      <td>2020-05-08</td>\n",
       "    </tr>\n",
       "    <tr>\n",
       "      <th>10</th>\n",
       "      <td>17794</td>\n",
       "      <td>2020-05-07</td>\n",
       "    </tr>\n",
       "    <tr>\n",
       "      <th>11</th>\n",
       "      <td>18536</td>\n",
       "      <td>2020-05-06</td>\n",
       "    </tr>\n",
       "    <tr>\n",
       "      <th>12</th>\n",
       "      <td>18764</td>\n",
       "      <td>2020-05-05</td>\n",
       "    </tr>\n",
       "    <tr>\n",
       "      <th>13</th>\n",
       "      <td>19677</td>\n",
       "      <td>2020-05-04</td>\n",
       "    </tr>\n",
       "    <tr>\n",
       "      <th>14</th>\n",
       "      <td>22013</td>\n",
       "      <td>2020-05-03</td>\n",
       "    </tr>\n",
       "    <tr>\n",
       "      <th>15</th>\n",
       "      <td>19825</td>\n",
       "      <td>2020-05-02</td>\n",
       "    </tr>\n",
       "    <tr>\n",
       "      <th>16</th>\n",
       "      <td>19064</td>\n",
       "      <td>2020-05-01</td>\n",
       "    </tr>\n",
       "  </tbody>\n",
       "</table>\n",
       "</div>"
      ],
      "text/plain": [
       "    Total       Date\n",
       "1   23174 2020-05-16\n",
       "2   18828 2020-05-15\n",
       "3   18621 2020-05-14\n",
       "4   18855 2020-05-13\n",
       "5   17852 2020-05-12\n",
       "6   18196 2020-05-11\n",
       "7   20521 2020-05-10\n",
       "8   19794 2020-05-09\n",
       "9   18373 2020-05-08\n",
       "10  17794 2020-05-07\n",
       "11  18536 2020-05-06\n",
       "12  18764 2020-05-05\n",
       "13  19677 2020-05-04\n",
       "14  22013 2020-05-03\n",
       "15  19825 2020-05-02\n",
       "16  19064 2020-05-01"
      ]
     },
     "execution_count": 20,
     "metadata": {},
     "output_type": "execute_result"
    }
   ],
   "source": [
    "df2_new "
   ]
  },
  {
   "cell_type": "code",
   "execution_count": 20,
   "metadata": {},
   "outputs": [
    {
     "data": {
      "text/plain": [
       "[<matplotlib.lines.Line2D at 0x7f0b4c29f450>]"
      ]
     },
     "execution_count": 20,
     "metadata": {},
     "output_type": "execute_result"
    },
    {
     "data": {
      "image/png": "[encoded data removed]",
      "text/plain": [
       "<Figure size 432x288 with 1 Axes>"
      ]
     },
     "metadata": {
      "needs_background": "light"
     },
     "output_type": "display_data"
    }
   ],
   "source": [
    "Y = df2_new['Total']\n",
    "X = df2_new['Date']\n",
    "plt.plot(X,Y) "
   ]
  },
  {
   "cell_type": "code",
   "execution_count": 21,
   "metadata": {},
   "outputs": [],
   "source": [
    "indexed_df2_new = df2_new.set_index(['Date'])"
   ]
  },
  {
   "cell_type": "code",
   "execution_count": 40,
   "metadata": {},
   "outputs": [
    {
     "data": {
      "text/html": [
       "<div>\n",
       "<style scoped>\n",
       "    .dataframe tbody tr th:only-of-type {\n",
       "        vertical-align: middle;\n",
       "    }\n",
       "\n",
       "    .dataframe tbody tr th {\n",
       "        vertical-align: top;\n",
       "    }\n",
       "\n",
       "    .dataframe thead th {\n",
       "        text-align: right;\n",
       "    }\n",
       "</style>\n",
       "<table border=\"1\" class=\"dataframe\">\n",
       "  <thead>\n",
       "    <tr style=\"text-align: right;\">\n",
       "      <th></th>\n",
       "      <th>Total</th>\n",
       "      <th>Date</th>\n",
       "    </tr>\n",
       "  </thead>\n",
       "  <tbody>\n",
       "    <tr>\n",
       "      <th>1</th>\n",
       "      <td>23174</td>\n",
       "      <td>2020-05-16</td>\n",
       "    </tr>\n",
       "    <tr>\n",
       "      <th>2</th>\n",
       "      <td>18828</td>\n",
       "      <td>2020-05-15</td>\n",
       "    </tr>\n",
       "    <tr>\n",
       "      <th>3</th>\n",
       "      <td>18621</td>\n",
       "      <td>2020-05-14</td>\n",
       "    </tr>\n",
       "    <tr>\n",
       "      <th>4</th>\n",
       "      <td>18855</td>\n",
       "      <td>2020-05-13</td>\n",
       "    </tr>\n",
       "    <tr>\n",
       "      <th>5</th>\n",
       "      <td>17852</td>\n",
       "      <td>2020-05-12</td>\n",
       "    </tr>\n",
       "    <tr>\n",
       "      <th>6</th>\n",
       "      <td>18196</td>\n",
       "      <td>2020-05-11</td>\n",
       "    </tr>\n",
       "    <tr>\n",
       "      <th>7</th>\n",
       "      <td>20521</td>\n",
       "      <td>2020-05-10</td>\n",
       "    </tr>\n",
       "    <tr>\n",
       "      <th>8</th>\n",
       "      <td>19794</td>\n",
       "      <td>2020-05-09</td>\n",
       "    </tr>\n",
       "    <tr>\n",
       "      <th>9</th>\n",
       "      <td>18373</td>\n",
       "      <td>2020-05-08</td>\n",
       "    </tr>\n",
       "    <tr>\n",
       "      <th>10</th>\n",
       "      <td>17794</td>\n",
       "      <td>2020-05-07</td>\n",
       "    </tr>\n",
       "    <tr>\n",
       "      <th>11</th>\n",
       "      <td>18536</td>\n",
       "      <td>2020-05-06</td>\n",
       "    </tr>\n",
       "    <tr>\n",
       "      <th>12</th>\n",
       "      <td>18764</td>\n",
       "      <td>2020-05-05</td>\n",
       "    </tr>\n",
       "    <tr>\n",
       "      <th>13</th>\n",
       "      <td>19677</td>\n",
       "      <td>2020-05-04</td>\n",
       "    </tr>\n",
       "    <tr>\n",
       "      <th>14</th>\n",
       "      <td>22013</td>\n",
       "      <td>2020-05-03</td>\n",
       "    </tr>\n",
       "    <tr>\n",
       "      <th>15</th>\n",
       "      <td>19825</td>\n",
       "      <td>2020-05-02</td>\n",
       "    </tr>\n",
       "    <tr>\n",
       "      <th>16</th>\n",
       "      <td>19064</td>\n",
       "      <td>2020-05-01</td>\n",
       "    </tr>\n",
       "  </tbody>\n",
       "</table>\n",
       "</div>"
      ],
      "text/plain": [
       "    Total       Date\n",
       "1   23174 2020-05-16\n",
       "2   18828 2020-05-15\n",
       "3   18621 2020-05-14\n",
       "4   18855 2020-05-13\n",
       "5   17852 2020-05-12\n",
       "6   18196 2020-05-11\n",
       "7   20521 2020-05-10\n",
       "8   19794 2020-05-09\n",
       "9   18373 2020-05-08\n",
       "10  17794 2020-05-07\n",
       "11  18536 2020-05-06\n",
       "12  18764 2020-05-05\n",
       "13  19677 2020-05-04\n",
       "14  22013 2020-05-03\n",
       "15  19825 2020-05-02\n",
       "16  19064 2020-05-01"
      ]
     },
     "execution_count": 40,
     "metadata": {},
     "output_type": "execute_result"
    }
   ],
   "source": [
    "df2_new "
   ]
  },
  {
   "cell_type": "code",
   "execution_count": 41,
   "metadata": {
    "scrolled": true
   },
   "outputs": [
    {
     "data": {
      "text/plain": [
       "<matplotlib.axes._subplots.AxesSubplot at 0x7f0b4500d6d0>"
      ]
     },
     "execution_count": 41,
     "metadata": {},
     "output_type": "execute_result"
    },
    {
     "data": {
      "image/png": "[encoded data removed]",
      "text/plain": [
       "<Figure size 432x288 with 1 Axes>"
      ]
     },
     "metadata": {
      "needs_background": "light"
     },
     "output_type": "display_data"
    }
   ],
   "source": [
    "sns.lineplot(x=\"Date\", y=\"Total\", data=df2_new)"
   ]
  },
  {
   "cell_type": "code",
   "execution_count": 42,
   "metadata": {},
   "outputs": [
    {
     "data": {
      "text/html": [
       "<div>\n",
       "<style scoped>\n",
       "    .dataframe tbody tr th:only-of-type {\n",
       "        vertical-align: middle;\n",
       "    }\n",
       "\n",
       "    .dataframe tbody tr th {\n",
       "        vertical-align: top;\n",
       "    }\n",
       "\n",
       "    .dataframe thead th {\n",
       "        text-align: right;\n",
       "    }\n",
       "</style>\n",
       "<table border=\"1\" class=\"dataframe\">\n",
       "  <thead>\n",
       "    <tr style=\"text-align: right;\">\n",
       "      <th></th>\n",
       "      <th>Total</th>\n",
       "    </tr>\n",
       "    <tr>\n",
       "      <th>Date</th>\n",
       "      <th></th>\n",
       "    </tr>\n",
       "  </thead>\n",
       "  <tbody>\n",
       "    <tr>\n",
       "      <th>2020-05-16</th>\n",
       "      <td>23174</td>\n",
       "    </tr>\n",
       "    <tr>\n",
       "      <th>2020-05-15</th>\n",
       "      <td>18828</td>\n",
       "    </tr>\n",
       "    <tr>\n",
       "      <th>2020-05-14</th>\n",
       "      <td>18621</td>\n",
       "    </tr>\n",
       "    <tr>\n",
       "      <th>2020-05-13</th>\n",
       "      <td>18855</td>\n",
       "    </tr>\n",
       "    <tr>\n",
       "      <th>2020-05-12</th>\n",
       "      <td>17852</td>\n",
       "    </tr>\n",
       "    <tr>\n",
       "      <th>2020-05-11</th>\n",
       "      <td>18196</td>\n",
       "    </tr>\n",
       "    <tr>\n",
       "      <th>2020-05-10</th>\n",
       "      <td>20521</td>\n",
       "    </tr>\n",
       "    <tr>\n",
       "      <th>2020-05-09</th>\n",
       "      <td>19794</td>\n",
       "    </tr>\n",
       "    <tr>\n",
       "      <th>2020-05-08</th>\n",
       "      <td>18373</td>\n",
       "    </tr>\n",
       "    <tr>\n",
       "      <th>2020-05-07</th>\n",
       "      <td>17794</td>\n",
       "    </tr>\n",
       "    <tr>\n",
       "      <th>2020-05-06</th>\n",
       "      <td>18536</td>\n",
       "    </tr>\n",
       "    <tr>\n",
       "      <th>2020-05-05</th>\n",
       "      <td>18764</td>\n",
       "    </tr>\n",
       "    <tr>\n",
       "      <th>2020-05-04</th>\n",
       "      <td>19677</td>\n",
       "    </tr>\n",
       "    <tr>\n",
       "      <th>2020-05-03</th>\n",
       "      <td>22013</td>\n",
       "    </tr>\n",
       "    <tr>\n",
       "      <th>2020-05-02</th>\n",
       "      <td>19825</td>\n",
       "    </tr>\n",
       "    <tr>\n",
       "      <th>2020-05-01</th>\n",
       "      <td>19064</td>\n",
       "    </tr>\n",
       "  </tbody>\n",
       "</table>\n",
       "</div>"
      ],
      "text/plain": [
       "            Total\n",
       "Date             \n",
       "2020-05-16  23174\n",
       "2020-05-15  18828\n",
       "2020-05-14  18621\n",
       "2020-05-13  18855\n",
       "2020-05-12  17852\n",
       "2020-05-11  18196\n",
       "2020-05-10  20521\n",
       "2020-05-09  19794\n",
       "2020-05-08  18373\n",
       "2020-05-07  17794\n",
       "2020-05-06  18536\n",
       "2020-05-05  18764\n",
       "2020-05-04  19677\n",
       "2020-05-03  22013\n",
       "2020-05-02  19825\n",
       "2020-05-01  19064"
      ]
     },
     "execution_count": 42,
     "metadata": {},
     "output_type": "execute_result"
    }
   ],
   "source": [
    "indexed_df2_new"
   ]
  },
  {
   "cell_type": "code",
   "execution_count": 43,
   "metadata": {},
   "outputs": [
    {
     "data": {
      "text/plain": [
       "[<matplotlib.lines.Line2D at 0x7f0b44e35250>]"
      ]
     },
     "execution_count": 43,
     "metadata": {},
     "output_type": "execute_result"
    },
    {
     "data": {
      "image/png": "[encoded data removed]",
      "text/plain": [
       "<Figure size 432x288 with 1 Axes>"
      ]
     },
     "metadata": {
      "needs_background": "light"
     },
     "output_type": "display_data"
    }
   ],
   "source": [
    "plt.xlabel(\"Date\")\n",
    "plt.ylabel(\"TotalKey\")\n",
    "plt.plot(indexed_df2_new)"
   ]
  },
  {
   "cell_type": "code",
   "execution_count": 44,
   "metadata": {},
   "outputs": [
    {
     "name": "stdout",
     "output_type": "stream",
     "text": [
      "              Total\n",
      "Date               \n",
      "2020-05-16      NaN\n",
      "2020-05-15  21001.0\n",
      "2020-05-14  18724.5\n",
      "2020-05-13  18738.0\n",
      "2020-05-12  18353.5\n",
      "2020-05-11  18024.0\n",
      "2020-05-10  19358.5\n",
      "2020-05-09  20157.5\n",
      "2020-05-08  19083.5\n",
      "2020-05-07  18083.5\n",
      "2020-05-06  18165.0\n",
      "2020-05-05  18650.0\n",
      "2020-05-04  19220.5\n",
      "2020-05-03  20845.0\n",
      "2020-05-02  20919.0\n",
      "2020-05-01  19444.5                   Total\n",
      "Date                   \n",
      "2020-05-16          NaN\n",
      "2020-05-15  3073.086071\n",
      "2020-05-14   146.371104\n",
      "2020-05-13   165.462987\n",
      "2020-05-12   709.228102\n",
      "2020-05-11   243.244733\n",
      "2020-05-10  1644.023266\n",
      "2020-05-09   514.066630\n",
      "2020-05-08  1004.798736\n",
      "2020-05-07   409.414826\n",
      "2020-05-06   524.673232\n",
      "2020-05-05   161.220346\n",
      "2020-05-04   645.588491\n",
      "2020-05-03  1651.801441\n",
      "2020-05-02  1547.149637\n",
      "2020-05-01   538.108260\n"
     ]
    }
   ],
   "source": [
    "#Rolling Statistics \n",
    "rolmean = indexed_df2_new.rolling(window=2).mean()\n",
    "rolstd = indexed_df2_new.rolling(window=2).std()\n",
    "print(rolmean,rolstd)"
   ]
  },
  {
   "cell_type": "code",
   "execution_count": 45,
   "metadata": {},
   "outputs": [
    {
     "data": {
      "image/png": "[encoded data removed]",
      "text/plain": [
       "<Figure size 432x288 with 1 Axes>"
      ]
     },
     "metadata": {
      "needs_background": "light"
     },
     "output_type": "display_data"
    }
   ],
   "source": [
    "original = plt.plot(indexed_df2_new, color='blue', label='Original')\n",
    "mean = plt.plot(rolmean,color ='red',label='RollingMean')\n",
    "std = plt.plot(rolstd, color ='black', label ='RollingStdev')\n",
    "plt.legend(loc='best')\n",
    "plt.title('Rolling Mean & Standard Deviation')\n",
    "plt.show(block=False)"
   ]
  },
  {
   "cell_type": "code",
   "execution_count": 46,
   "metadata": {},
   "outputs": [
    {
     "name": "stdout",
     "output_type": "stream",
     "text": [
      "Results of Dickey-FUller Test:\n",
      "Test Statistic                 -4.275226\n",
      "p-value                         0.000490\n",
      "#Lags Used                      0.000000\n",
      "Number of Observations Used    15.000000\n",
      "Critical Value (1%)            -3.964443\n",
      "Critical Value (5%)            -3.084908\n",
      "Critical Value (10%)           -2.681814\n",
      "dtype: float64\n"
     ]
    }
   ],
   "source": [
    "#Dickey-Fuller test ( Stationery Test) \n",
    "from statsmodels.tsa.stattools import adfuller \n",
    "print('Results of Dickey-FUller Test:')\n",
    "dftest = adfuller(indexed_df2_new['Total'],autolag='AIC')\n",
    "dfoutput = pd.Series(dftest[0:4],index=['Test Statistic','p-value','#Lags Used','Number of Observations Used'])\n",
    "for key,value in dftest[4].items():\n",
    "    dfoutput['Critical Value (%s)'%key] = value \n",
    "    \n",
    "print(dfoutput)"
   ]
  },
  {
   "cell_type": "code",
   "execution_count": 47,
   "metadata": {},
   "outputs": [
    {
     "data": {
      "text/plain": [
       "[<matplotlib.lines.Line2D at 0x7f0b45098dd0>]"
      ]
     },
     "execution_count": 47,
     "metadata": {},
     "output_type": "execute_result"
    },
    {
     "data": {
      "image/png": "[encoded data removed]",
      "text/plain": [
       "<Figure size 432x288 with 1 Axes>"
      ]
     },
     "metadata": {
      "needs_background": "light"
     },
     "output_type": "display_data"
    }
   ],
   "source": [
    "#estimating trend\n",
    "indexed_df2_new_logScale = np.log(indexed_df2_new)\n",
    "plt.plot(indexed_df2_new_logScale)"
   ]
  },
  {
   "cell_type": "code",
   "execution_count": 48,
   "metadata": {},
   "outputs": [
    {
     "data": {
      "text/plain": [
       "[<matplotlib.lines.Line2D at 0x7f0b45337d50>]"
      ]
     },
     "execution_count": 48,
     "metadata": {},
     "output_type": "execute_result"
    },
    {
     "data": {
      "image/png": "[encoded data removed]",
      "text/plain": [
       "<Figure size 432x288 with 1 Axes>"
      ]
     },
     "metadata": {
      "needs_background": "light"
     },
     "output_type": "display_data"
    }
   ],
   "source": [
    "movingAverage= indexed_df2_new_logScale.rolling(window=2).mean()\n",
    "movingSTD = indexed_df2_new_logScale.rolling(window=2).std()\n",
    "plt.plot(indexed_df2_new_logScale)\n",
    "plt.plot(movingAverage, color ='red')"
   ]
  },
  {
   "cell_type": "code",
   "execution_count": 49,
   "metadata": {},
   "outputs": [
    {
     "data": {
      "text/html": [
       "<div>\n",
       "<style scoped>\n",
       "    .dataframe tbody tr th:only-of-type {\n",
       "        vertical-align: middle;\n",
       "    }\n",
       "\n",
       "    .dataframe tbody tr th {\n",
       "        vertical-align: top;\n",
       "    }\n",
       "\n",
       "    .dataframe thead th {\n",
       "        text-align: right;\n",
       "    }\n",
       "</style>\n",
       "<table border=\"1\" class=\"dataframe\">\n",
       "  <thead>\n",
       "    <tr style=\"text-align: right;\">\n",
       "      <th></th>\n",
       "      <th>Total</th>\n",
       "    </tr>\n",
       "    <tr>\n",
       "      <th>Date</th>\n",
       "      <th></th>\n",
       "    </tr>\n",
       "  </thead>\n",
       "  <tbody>\n",
       "    <tr>\n",
       "      <th>2020-05-15</th>\n",
       "      <td>-0.103843</td>\n",
       "    </tr>\n",
       "    <tr>\n",
       "      <th>2020-05-14</th>\n",
       "      <td>-0.005528</td>\n",
       "    </tr>\n",
       "    <tr>\n",
       "      <th>2020-05-13</th>\n",
       "      <td>0.006244</td>\n",
       "    </tr>\n",
       "    <tr>\n",
       "      <th>2020-05-12</th>\n",
       "      <td>-0.027331</td>\n",
       "    </tr>\n",
       "    <tr>\n",
       "      <th>2020-05-11</th>\n",
       "      <td>0.009543</td>\n",
       "    </tr>\n",
       "    <tr>\n",
       "      <th>2020-05-10</th>\n",
       "      <td>0.060123</td>\n",
       "    </tr>\n",
       "    <tr>\n",
       "      <th>2020-05-09</th>\n",
       "      <td>-0.018035</td>\n",
       "    </tr>\n",
       "    <tr>\n",
       "      <th>2020-05-08</th>\n",
       "      <td>-0.037248</td>\n",
       "    </tr>\n",
       "    <tr>\n",
       "      <th>2020-05-07</th>\n",
       "      <td>-0.016010</td>\n",
       "    </tr>\n",
       "    <tr>\n",
       "      <th>2020-05-06</th>\n",
       "      <td>0.020427</td>\n",
       "    </tr>\n",
       "    <tr>\n",
       "      <th>2020-05-05</th>\n",
       "      <td>0.006113</td>\n",
       "    </tr>\n",
       "    <tr>\n",
       "      <th>2020-05-04</th>\n",
       "      <td>0.023755</td>\n",
       "    </tr>\n",
       "    <tr>\n",
       "      <th>2020-05-03</th>\n",
       "      <td>0.056091</td>\n",
       "    </tr>\n",
       "    <tr>\n",
       "      <th>2020-05-02</th>\n",
       "      <td>-0.052345</td>\n",
       "    </tr>\n",
       "    <tr>\n",
       "      <th>2020-05-01</th>\n",
       "      <td>-0.019571</td>\n",
       "    </tr>\n",
       "  </tbody>\n",
       "</table>\n",
       "</div>"
      ],
      "text/plain": [
       "               Total\n",
       "Date                \n",
       "2020-05-15 -0.103843\n",
       "2020-05-14 -0.005528\n",
       "2020-05-13  0.006244\n",
       "2020-05-12 -0.027331\n",
       "2020-05-11  0.009543\n",
       "2020-05-10  0.060123\n",
       "2020-05-09 -0.018035\n",
       "2020-05-08 -0.037248\n",
       "2020-05-07 -0.016010\n",
       "2020-05-06  0.020427\n",
       "2020-05-05  0.006113\n",
       "2020-05-04  0.023755\n",
       "2020-05-03  0.056091\n",
       "2020-05-02 -0.052345\n",
       "2020-05-01 -0.019571"
      ]
     },
     "execution_count": 49,
     "metadata": {},
     "output_type": "execute_result"
    }
   ],
   "source": [
    "dfLogScaleMinusMA = indexed_df2_new_logScale - movingAverage\n",
    "dfLogScaleMinusMA.head()\n",
    "#RemoveNA\n",
    "dfLogScaleMinusMA.dropna(inplace=True)\n",
    "dfLogScaleMinusMA"
   ]
  },
  {
   "cell_type": "code",
   "execution_count": 50,
   "metadata": {},
   "outputs": [],
   "source": [
    "from statsmodels.tsa.stattools import adfuller \n",
    "def test_stationarity(timeseries):\n",
    "    #Determining rolling statistics\n",
    "    movingAverage = timeseries.rolling(window=2).mean()\n",
    "    movingSTD =timeseries.rolling(window=2).std()\n",
    "    \n",
    "    #Plot rolling statistics:\n",
    "    orig =plt.plot(timeseries, color ='green',label='Original')\n",
    "    mean =plt.plot(movingAverage,color='red',label='Rolling Mean')\n",
    "    std =plt.plot(movingSTD, color='black',label='Rolling Std')\n",
    "    plt.legend(loc='best')\n",
    "    plt.title('Rolling Mean & Standard Deviation')\n",
    "    plt.show(block=False)\n",
    "    \n",
    "    #Perform Dickey-Fuller Test:\n",
    "    print('Results of DIckey-Fuller Test:')\n",
    "    dftest = adfuller(timeseries['Total'],autolag='AIC')\n",
    "    dfoutput = pd.Series(dftest[0:4],index=['Test Statistic','p-value','#Lags Used','Number of Observations Used'])\n",
    "    for key,value in dftest[4].items():\n",
    "        dfoutput['Critical Value (%s)'%key] = value\n",
    "    print(dfoutput)"
   ]
  },
  {
   "cell_type": "code",
   "execution_count": 51,
   "metadata": {},
   "outputs": [
    {
     "data": {
      "image/png": "[encoded data removed]",
      "text/plain": [
       "<Figure size 432x288 with 1 Axes>"
      ]
     },
     "metadata": {
      "needs_background": "light"
     },
     "output_type": "display_data"
    },
    {
     "name": "stdout",
     "output_type": "stream",
     "text": [
      "Results of DIckey-Fuller Test:\n",
      "Test Statistic                 -3.353925\n",
      "p-value                         0.012633\n",
      "#Lags Used                      4.000000\n",
      "Number of Observations Used    10.000000\n",
      "Critical Value (1%)            -4.331573\n",
      "Critical Value (5%)            -3.232950\n",
      "Critical Value (10%)           -2.748700\n",
      "dtype: float64\n"
     ]
    }
   ],
   "source": [
    "test_stationarity(dfLogScaleMinusMA)"
   ]
  },
  {
   "cell_type": "code",
   "execution_count": 52,
   "metadata": {},
   "outputs": [
    {
     "data": {
      "text/plain": [
       "[<matplotlib.lines.Line2D at 0x7f0b454e0790>]"
      ]
     },
     "execution_count": 52,
     "metadata": {},
     "output_type": "execute_result"
    },
    {
     "data": {
      "image/png": "[encoded data removed]",
      "text/plain": [
       "<Figure size 432x288 with 1 Axes>"
      ]
     },
     "metadata": {
      "needs_background": "light"
     },
     "output_type": "display_data"
    }
   ],
   "source": [
    "exponentialDecayWeightedAverage = indexed_df2_new_logScale.ewm(halflife=3,min_periods=0,adjust=True).mean()\n",
    "plt.plot(indexed_df2_new_logScale)\n",
    "plt.plot(exponentialDecayWeightedAverage,color='red')"
   ]
  },
  {
   "cell_type": "code",
   "execution_count": 53,
   "metadata": {},
   "outputs": [
    {
     "data": {
      "image/png": "[encoded data removed]",
      "text/plain": [
       "<Figure size 432x288 with 1 Axes>"
      ]
     },
     "metadata": {
      "needs_background": "light"
     },
     "output_type": "display_data"
    },
    {
     "name": "stdout",
     "output_type": "stream",
     "text": [
      "Results of DIckey-Fuller Test:\n",
      "Test Statistic                -1.478999\n",
      "p-value                        0.543874\n",
      "#Lags Used                     6.000000\n",
      "Number of Observations Used    9.000000\n",
      "Critical Value (1%)           -4.473135\n",
      "Critical Value (5%)           -3.289881\n",
      "Critical Value (10%)          -2.772382\n",
      "dtype: float64\n"
     ]
    }
   ],
   "source": [
    "dfLogScaleMinusMEDA = indexed_df2_new_logScale - exponentialDecayWeightedAverage\n",
    "test_stationarity(dfLogScaleMinusMEDA)"
   ]
  },
  {
   "cell_type": "code",
   "execution_count": 54,
   "metadata": {},
   "outputs": [
    {
     "data": {
      "text/plain": [
       "[<matplotlib.lines.Line2D at 0x7f0b453eea90>]"
      ]
     },
     "execution_count": 54,
     "metadata": {},
     "output_type": "execute_result"
    },
    {
     "data": {
      "image/png": "[encoded data removed]",
      "text/plain": [
       "<Figure size 432x288 with 1 Axes>"
      ]
     },
     "metadata": {
      "needs_background": "light"
     },
     "output_type": "display_data"
    }
   ],
   "source": [
    "dfLogDiffShifting = indexed_df2_new_logScale - indexed_df2_new_logScale.shift()\n",
    "plt.plot(indexed_df2_new_logScale)"
   ]
  },
  {
   "cell_type": "code",
   "execution_count": 55,
   "metadata": {},
   "outputs": [
    {
     "data": {
      "image/png": "[encoded data removed]",
      "text/plain": [
       "<Figure size 432x288 with 1 Axes>"
      ]
     },
     "metadata": {
      "needs_background": "light"
     },
     "output_type": "display_data"
    },
    {
     "name": "stdout",
     "output_type": "stream",
     "text": [
      "Results of DIckey-Fuller Test:\n",
      "Test Statistic                 -3.353925\n",
      "p-value                         0.012633\n",
      "#Lags Used                      4.000000\n",
      "Number of Observations Used    10.000000\n",
      "Critical Value (1%)            -4.331573\n",
      "Critical Value (5%)            -3.232950\n",
      "Critical Value (10%)           -2.748700\n",
      "dtype: float64\n"
     ]
    }
   ],
   "source": [
    "dfLogDiffShifting.dropna(inplace=True)\n",
    "test_stationarity(dfLogDiffShifting)"
   ]
  },
  {
   "cell_type": "code",
   "execution_count": 56,
   "metadata": {},
   "outputs": [
    {
     "data": {
      "image/png": "[encoded data removed]",
      "text/plain": [
       "<Figure size 432x288 with 4 Axes>"
      ]
     },
     "metadata": {
      "needs_background": "light"
     },
     "output_type": "display_data"
    },
    {
     "name": "stdout",
     "output_type": "stream",
     "text": [
      "Results of DIckey-Fuller Test:\n"
     ]
    },
    {
     "ename": "KeyError",
     "evalue": "'Total'",
     "output_type": "error",
     "traceback": [
      "\u001b[0;31m---------------------------------------------------------------------------\u001b[0m",
      "\u001b[0;31mTypeError\u001b[0m                                 Traceback (most recent call last)",
      "\u001b[0;32m~/anaconda3/lib/python3.7/site-packages/pandas/core/indexes/base.py\u001b[0m in \u001b[0;36mget_value\u001b[0;34m(self, series, key)\u001b[0m\n\u001b[1;32m   4410\u001b[0m             \u001b[0;32mtry\u001b[0m\u001b[0;34m:\u001b[0m\u001b[0;34m\u001b[0m\u001b[0;34m\u001b[0m\u001b[0m\n\u001b[0;32m-> 4411\u001b[0;31m                 \u001b[0;32mreturn\u001b[0m \u001b[0mlibindex\u001b[0m\u001b[0;34m.\u001b[0m\u001b[0mget_value_at\u001b[0m\u001b[0;34m(\u001b[0m\u001b[0ms\u001b[0m\u001b[0;34m,\u001b[0m \u001b[0mkey\u001b[0m\u001b[0;34m)\u001b[0m\u001b[0;34m\u001b[0m\u001b[0;34m\u001b[0m\u001b[0m\n\u001b[0m\u001b[1;32m   4412\u001b[0m             \u001b[0;32mexcept\u001b[0m \u001b[0mIndexError\u001b[0m\u001b[0;34m:\u001b[0m\u001b[0;34m\u001b[0m\u001b[0;34m\u001b[0m\u001b[0m\n",
      "\u001b[0;32mpandas/_libs/index.pyx\u001b[0m in \u001b[0;36mpandas._libs.index.get_value_at\u001b[0;34m()\u001b[0m\n",
      "\u001b[0;32mpandas/_libs/index.pyx\u001b[0m in \u001b[0;36mpandas._libs.index.get_value_at\u001b[0;34m()\u001b[0m\n",
      "\u001b[0;32mpandas/_libs/util.pxd\u001b[0m in \u001b[0;36mpandas._libs.util.get_value_at\u001b[0;34m()\u001b[0m\n",
      "\u001b[0;32mpandas/_libs/util.pxd\u001b[0m in \u001b[0;36mpandas._libs.util.validate_indexer\u001b[0;34m()\u001b[0m\n",
      "\u001b[0;31mTypeError\u001b[0m: 'str' object cannot be interpreted as an integer",
      "\nDuring handling of the above exception, another exception occurred:\n",
      "\u001b[0;31mKeyError\u001b[0m                                  Traceback (most recent call last)",
      "\u001b[0;32m~/anaconda3/lib/python3.7/site-packages/pandas/core/indexes/datetimes.py\u001b[0m in \u001b[0;36mget_value\u001b[0;34m(self, series, key)\u001b[0m\n\u001b[1;32m    650\u001b[0m         \u001b[0;32mtry\u001b[0m\u001b[0;34m:\u001b[0m\u001b[0;34m\u001b[0m\u001b[0;34m\u001b[0m\u001b[0m\n\u001b[0;32m--> 651\u001b[0;31m             \u001b[0mvalue\u001b[0m \u001b[0;34m=\u001b[0m \u001b[0mIndex\u001b[0m\u001b[0;34m.\u001b[0m\u001b[0mget_value\u001b[0m\u001b[0;34m(\u001b[0m\u001b[0mself\u001b[0m\u001b[0;34m,\u001b[0m \u001b[0mseries\u001b[0m\u001b[0;34m,\u001b[0m \u001b[0mkey\u001b[0m\u001b[0;34m)\u001b[0m\u001b[0;34m\u001b[0m\u001b[0;34m\u001b[0m\u001b[0m\n\u001b[0m\u001b[1;32m    652\u001b[0m         \u001b[0;32mexcept\u001b[0m \u001b[0mKeyError\u001b[0m\u001b[0;34m:\u001b[0m\u001b[0;34m\u001b[0m\u001b[0;34m\u001b[0m\u001b[0m\n",
      "\u001b[0;32m~/anaconda3/lib/python3.7/site-packages/pandas/core/indexes/base.py\u001b[0m in \u001b[0;36mget_value\u001b[0;34m(self, series, key)\u001b[0m\n\u001b[1;32m   4418\u001b[0m                 \u001b[0;32melse\u001b[0m\u001b[0;34m:\u001b[0m\u001b[0;34m\u001b[0m\u001b[0;34m\u001b[0m\u001b[0m\n\u001b[0;32m-> 4419\u001b[0;31m                     \u001b[0;32mraise\u001b[0m \u001b[0me1\u001b[0m\u001b[0;34m\u001b[0m\u001b[0;34m\u001b[0m\u001b[0m\n\u001b[0m\u001b[1;32m   4420\u001b[0m             \u001b[0;32mexcept\u001b[0m \u001b[0mException\u001b[0m\u001b[0;34m:\u001b[0m\u001b[0;34m\u001b[0m\u001b[0;34m\u001b[0m\u001b[0m\n",
      "\u001b[0;32m~/anaconda3/lib/python3.7/site-packages/pandas/core/indexes/base.py\u001b[0m in \u001b[0;36mget_value\u001b[0;34m(self, series, key)\u001b[0m\n\u001b[1;32m   4404\u001b[0m         \u001b[0;32mtry\u001b[0m\u001b[0;34m:\u001b[0m\u001b[0;34m\u001b[0m\u001b[0;34m\u001b[0m\u001b[0m\n\u001b[0;32m-> 4405\u001b[0;31m             \u001b[0;32mreturn\u001b[0m \u001b[0mself\u001b[0m\u001b[0;34m.\u001b[0m\u001b[0m_engine\u001b[0m\u001b[0;34m.\u001b[0m\u001b[0mget_value\u001b[0m\u001b[0;34m(\u001b[0m\u001b[0ms\u001b[0m\u001b[0;34m,\u001b[0m \u001b[0mk\u001b[0m\u001b[0;34m,\u001b[0m \u001b[0mtz\u001b[0m\u001b[0;34m=\u001b[0m\u001b[0mgetattr\u001b[0m\u001b[0;34m(\u001b[0m\u001b[0mseries\u001b[0m\u001b[0;34m.\u001b[0m\u001b[0mdtype\u001b[0m\u001b[0;34m,\u001b[0m \u001b[0;34m\"tz\"\u001b[0m\u001b[0;34m,\u001b[0m \u001b[0;32mNone\u001b[0m\u001b[0;34m)\u001b[0m\u001b[0;34m)\u001b[0m\u001b[0;34m\u001b[0m\u001b[0;34m\u001b[0m\u001b[0m\n\u001b[0m\u001b[1;32m   4406\u001b[0m         \u001b[0;32mexcept\u001b[0m \u001b[0mKeyError\u001b[0m \u001b[0;32mas\u001b[0m \u001b[0me1\u001b[0m\u001b[0;34m:\u001b[0m\u001b[0;34m\u001b[0m\u001b[0;34m\u001b[0m\u001b[0m\n",
      "\u001b[0;32mpandas/_libs/index.pyx\u001b[0m in \u001b[0;36mpandas._libs.index.IndexEngine.get_value\u001b[0;34m()\u001b[0m\n",
      "\u001b[0;32mpandas/_libs/index.pyx\u001b[0m in \u001b[0;36mpandas._libs.index.IndexEngine.get_value\u001b[0;34m()\u001b[0m\n",
      "\u001b[0;32mpandas/_libs/index.pyx\u001b[0m in \u001b[0;36mpandas._libs.index.DatetimeEngine.get_loc\u001b[0;34m()\u001b[0m\n",
      "\u001b[0;32mpandas/_libs/index.pyx\u001b[0m in \u001b[0;36mpandas._libs.index.DatetimeEngine._date_check_type\u001b[0;34m()\u001b[0m\n",
      "\u001b[0;31mKeyError\u001b[0m: 'Total'",
      "\nDuring handling of the above exception, another exception occurred:\n",
      "\u001b[0;31mParserError\u001b[0m                               Traceback (most recent call last)",
      "\u001b[0;32mpandas/_libs/tslibs/conversion.pyx\u001b[0m in \u001b[0;36mpandas._libs.tslibs.conversion.convert_str_to_tsobject\u001b[0;34m()\u001b[0m\n",
      "\u001b[0;32mpandas/_libs/tslibs/parsing.pyx\u001b[0m in \u001b[0;36mpandas._libs.tslibs.parsing.parse_datetime_string\u001b[0;34m()\u001b[0m\n",
      "\u001b[0;32m~/anaconda3/lib/python3.7/site-packages/dateutil/parser/_parser.py\u001b[0m in \u001b[0;36mparse\u001b[0;34m(timestr, parserinfo, **kwargs)\u001b[0m\n\u001b[1;32m   1373\u001b[0m     \u001b[0;32melse\u001b[0m\u001b[0;34m:\u001b[0m\u001b[0;34m\u001b[0m\u001b[0;34m\u001b[0m\u001b[0m\n\u001b[0;32m-> 1374\u001b[0;31m         \u001b[0;32mreturn\u001b[0m \u001b[0mDEFAULTPARSER\u001b[0m\u001b[0;34m.\u001b[0m\u001b[0mparse\u001b[0m\u001b[0;34m(\u001b[0m\u001b[0mtimestr\u001b[0m\u001b[0;34m,\u001b[0m \u001b[0;34m**\u001b[0m\u001b[0mkwargs\u001b[0m\u001b[0;34m)\u001b[0m\u001b[0;34m\u001b[0m\u001b[0;34m\u001b[0m\u001b[0m\n\u001b[0m\u001b[1;32m   1375\u001b[0m \u001b[0;34m\u001b[0m\u001b[0m\n",
      "\u001b[0;32m~/anaconda3/lib/python3.7/site-packages/dateutil/parser/_parser.py\u001b[0m in \u001b[0;36mparse\u001b[0;34m(self, timestr, default, ignoretz, tzinfos, **kwargs)\u001b[0m\n\u001b[1;32m    648\u001b[0m         \u001b[0;32mif\u001b[0m \u001b[0mres\u001b[0m \u001b[0;32mis\u001b[0m \u001b[0;32mNone\u001b[0m\u001b[0;34m:\u001b[0m\u001b[0;34m\u001b[0m\u001b[0;34m\u001b[0m\u001b[0m\n\u001b[0;32m--> 649\u001b[0;31m             \u001b[0;32mraise\u001b[0m \u001b[0mParserError\u001b[0m\u001b[0;34m(\u001b[0m\u001b[0;34m\"Unknown string format: %s\"\u001b[0m\u001b[0;34m,\u001b[0m \u001b[0mtimestr\u001b[0m\u001b[0;34m)\u001b[0m\u001b[0;34m\u001b[0m\u001b[0;34m\u001b[0m\u001b[0m\n\u001b[0m\u001b[1;32m    650\u001b[0m \u001b[0;34m\u001b[0m\u001b[0m\n",
      "\u001b[0;31mParserError\u001b[0m: Unknown string format: Total",
      "\nDuring handling of the above exception, another exception occurred:\n",
      "\u001b[0;31mValueError\u001b[0m                                Traceback (most recent call last)",
      "\u001b[0;32m~/anaconda3/lib/python3.7/site-packages/pandas/core/indexes/datetimes.py\u001b[0m in \u001b[0;36mget_value\u001b[0;34m(self, series, key)\u001b[0m\n\u001b[1;32m    659\u001b[0m             \u001b[0;32mtry\u001b[0m\u001b[0;34m:\u001b[0m\u001b[0;34m\u001b[0m\u001b[0;34m\u001b[0m\u001b[0m\n\u001b[0;32m--> 660\u001b[0;31m                 \u001b[0;32mreturn\u001b[0m \u001b[0mself\u001b[0m\u001b[0;34m.\u001b[0m\u001b[0mget_value_maybe_box\u001b[0m\u001b[0;34m(\u001b[0m\u001b[0mseries\u001b[0m\u001b[0;34m,\u001b[0m \u001b[0mkey\u001b[0m\u001b[0;34m)\u001b[0m\u001b[0;34m\u001b[0m\u001b[0;34m\u001b[0m\u001b[0m\n\u001b[0m\u001b[1;32m    661\u001b[0m             \u001b[0;32mexcept\u001b[0m \u001b[0;34m(\u001b[0m\u001b[0mTypeError\u001b[0m\u001b[0;34m,\u001b[0m \u001b[0mValueError\u001b[0m\u001b[0;34m,\u001b[0m \u001b[0mKeyError\u001b[0m\u001b[0;34m)\u001b[0m\u001b[0;34m:\u001b[0m\u001b[0;34m\u001b[0m\u001b[0;34m\u001b[0m\u001b[0m\n",
      "\u001b[0;32m~/anaconda3/lib/python3.7/site-packages/pandas/core/indexes/datetimes.py\u001b[0m in \u001b[0;36mget_value_maybe_box\u001b[0;34m(self, series, key)\u001b[0m\n\u001b[1;32m    674\u001b[0m         \u001b[0;32melif\u001b[0m \u001b[0;32mnot\u001b[0m \u001b[0misinstance\u001b[0m\u001b[0;34m(\u001b[0m\u001b[0mkey\u001b[0m\u001b[0;34m,\u001b[0m \u001b[0mTimestamp\u001b[0m\u001b[0;34m)\u001b[0m\u001b[0;34m:\u001b[0m\u001b[0;34m\u001b[0m\u001b[0;34m\u001b[0m\u001b[0m\n\u001b[0;32m--> 675\u001b[0;31m             \u001b[0mkey\u001b[0m \u001b[0;34m=\u001b[0m \u001b[0mTimestamp\u001b[0m\u001b[0;34m(\u001b[0m\u001b[0mkey\u001b[0m\u001b[0;34m)\u001b[0m\u001b[0;34m\u001b[0m\u001b[0;34m\u001b[0m\u001b[0m\n\u001b[0m\u001b[1;32m    676\u001b[0m         \u001b[0mvalues\u001b[0m \u001b[0;34m=\u001b[0m \u001b[0mself\u001b[0m\u001b[0;34m.\u001b[0m\u001b[0m_engine\u001b[0m\u001b[0;34m.\u001b[0m\u001b[0mget_value\u001b[0m\u001b[0;34m(\u001b[0m\u001b[0mcom\u001b[0m\u001b[0;34m.\u001b[0m\u001b[0mvalues_from_object\u001b[0m\u001b[0;34m(\u001b[0m\u001b[0mseries\u001b[0m\u001b[0;34m)\u001b[0m\u001b[0;34m,\u001b[0m \u001b[0mkey\u001b[0m\u001b[0;34m,\u001b[0m \u001b[0mtz\u001b[0m\u001b[0;34m=\u001b[0m\u001b[0mself\u001b[0m\u001b[0;34m.\u001b[0m\u001b[0mtz\u001b[0m\u001b[0;34m)\u001b[0m\u001b[0;34m\u001b[0m\u001b[0;34m\u001b[0m\u001b[0m\n",
      "\u001b[0;32mpandas/_libs/tslibs/timestamps.pyx\u001b[0m in \u001b[0;36mpandas._libs.tslibs.timestamps.Timestamp.__new__\u001b[0;34m()\u001b[0m\n",
      "\u001b[0;32mpandas/_libs/tslibs/conversion.pyx\u001b[0m in \u001b[0;36mpandas._libs.tslibs.conversion.convert_to_tsobject\u001b[0;34m()\u001b[0m\n",
      "\u001b[0;32mpandas/_libs/tslibs/conversion.pyx\u001b[0m in \u001b[0;36mpandas._libs.tslibs.conversion.convert_str_to_tsobject\u001b[0;34m()\u001b[0m\n",
      "\u001b[0;31mValueError\u001b[0m: could not convert string to Timestamp",
      "\nDuring handling of the above exception, another exception occurred:\n",
      "\u001b[0;31mKeyError\u001b[0m                                  Traceback (most recent call last)",
      "\u001b[0;32m<ipython-input-56-2fff56543e4c>\u001b[0m in \u001b[0;36m<module>\u001b[0;34m\u001b[0m\n\u001b[1;32m     20\u001b[0m \u001b[0mdecomposedLogData\u001b[0m \u001b[0;34m=\u001b[0m \u001b[0mseasonal\u001b[0m\u001b[0;34m\u001b[0m\u001b[0;34m\u001b[0m\u001b[0m\n\u001b[1;32m     21\u001b[0m \u001b[0mdecomposedLogData\u001b[0m\u001b[0;34m.\u001b[0m\u001b[0mdropna\u001b[0m\u001b[0;34m(\u001b[0m\u001b[0minplace\u001b[0m\u001b[0;34m=\u001b[0m\u001b[0;32mTrue\u001b[0m\u001b[0;34m)\u001b[0m\u001b[0;34m\u001b[0m\u001b[0;34m\u001b[0m\u001b[0m\n\u001b[0;32m---> 22\u001b[0;31m \u001b[0mtest_stationarity\u001b[0m\u001b[0;34m(\u001b[0m\u001b[0mdecomposedLogData\u001b[0m\u001b[0;34m)\u001b[0m\u001b[0;34m\u001b[0m\u001b[0;34m\u001b[0m\u001b[0m\n\u001b[0m",
      "\u001b[0;32m<ipython-input-50-8af2f801fa02>\u001b[0m in \u001b[0;36mtest_stationarity\u001b[0;34m(timeseries)\u001b[0m\n\u001b[1;32m     15\u001b[0m     \u001b[0;31m#Perform Dickey-Fuller Test:\u001b[0m\u001b[0;34m\u001b[0m\u001b[0;34m\u001b[0m\u001b[0;34m\u001b[0m\u001b[0m\n\u001b[1;32m     16\u001b[0m     \u001b[0mprint\u001b[0m\u001b[0;34m(\u001b[0m\u001b[0;34m'Results of DIckey-Fuller Test:'\u001b[0m\u001b[0;34m)\u001b[0m\u001b[0;34m\u001b[0m\u001b[0;34m\u001b[0m\u001b[0m\n\u001b[0;32m---> 17\u001b[0;31m     \u001b[0mdftest\u001b[0m \u001b[0;34m=\u001b[0m \u001b[0madfuller\u001b[0m\u001b[0;34m(\u001b[0m\u001b[0mtimeseries\u001b[0m\u001b[0;34m[\u001b[0m\u001b[0;34m'Total'\u001b[0m\u001b[0;34m]\u001b[0m\u001b[0;34m,\u001b[0m\u001b[0mautolag\u001b[0m\u001b[0;34m=\u001b[0m\u001b[0;34m'AIC'\u001b[0m\u001b[0;34m)\u001b[0m\u001b[0;34m\u001b[0m\u001b[0;34m\u001b[0m\u001b[0m\n\u001b[0m\u001b[1;32m     18\u001b[0m     \u001b[0mdfoutput\u001b[0m \u001b[0;34m=\u001b[0m \u001b[0mpd\u001b[0m\u001b[0;34m.\u001b[0m\u001b[0mSeries\u001b[0m\u001b[0;34m(\u001b[0m\u001b[0mdftest\u001b[0m\u001b[0;34m[\u001b[0m\u001b[0;36m0\u001b[0m\u001b[0;34m:\u001b[0m\u001b[0;36m4\u001b[0m\u001b[0;34m]\u001b[0m\u001b[0;34m,\u001b[0m\u001b[0mindex\u001b[0m\u001b[0;34m=\u001b[0m\u001b[0;34m[\u001b[0m\u001b[0;34m'Test Statistic'\u001b[0m\u001b[0;34m,\u001b[0m\u001b[0;34m'p-value'\u001b[0m\u001b[0;34m,\u001b[0m\u001b[0;34m'#Lags Used'\u001b[0m\u001b[0;34m,\u001b[0m\u001b[0;34m'Number of Observations Used'\u001b[0m\u001b[0;34m]\u001b[0m\u001b[0;34m)\u001b[0m\u001b[0;34m\u001b[0m\u001b[0;34m\u001b[0m\u001b[0m\n\u001b[1;32m     19\u001b[0m     \u001b[0;32mfor\u001b[0m \u001b[0mkey\u001b[0m\u001b[0;34m,\u001b[0m\u001b[0mvalue\u001b[0m \u001b[0;32min\u001b[0m \u001b[0mdftest\u001b[0m\u001b[0;34m[\u001b[0m\u001b[0;36m4\u001b[0m\u001b[0;34m]\u001b[0m\u001b[0;34m.\u001b[0m\u001b[0mitems\u001b[0m\u001b[0;34m(\u001b[0m\u001b[0;34m)\u001b[0m\u001b[0;34m:\u001b[0m\u001b[0;34m\u001b[0m\u001b[0;34m\u001b[0m\u001b[0m\n",
      "\u001b[0;32m~/anaconda3/lib/python3.7/site-packages/pandas/core/series.py\u001b[0m in \u001b[0;36m__getitem__\u001b[0;34m(self, key)\u001b[0m\n\u001b[1;32m    869\u001b[0m         \u001b[0mkey\u001b[0m \u001b[0;34m=\u001b[0m \u001b[0mcom\u001b[0m\u001b[0;34m.\u001b[0m\u001b[0mapply_if_callable\u001b[0m\u001b[0;34m(\u001b[0m\u001b[0mkey\u001b[0m\u001b[0;34m,\u001b[0m \u001b[0mself\u001b[0m\u001b[0;34m)\u001b[0m\u001b[0;34m\u001b[0m\u001b[0;34m\u001b[0m\u001b[0m\n\u001b[1;32m    870\u001b[0m         \u001b[0;32mtry\u001b[0m\u001b[0;34m:\u001b[0m\u001b[0;34m\u001b[0m\u001b[0;34m\u001b[0m\u001b[0m\n\u001b[0;32m--> 871\u001b[0;31m             \u001b[0mresult\u001b[0m \u001b[0;34m=\u001b[0m \u001b[0mself\u001b[0m\u001b[0;34m.\u001b[0m\u001b[0mindex\u001b[0m\u001b[0;34m.\u001b[0m\u001b[0mget_value\u001b[0m\u001b[0;34m(\u001b[0m\u001b[0mself\u001b[0m\u001b[0;34m,\u001b[0m \u001b[0mkey\u001b[0m\u001b[0;34m)\u001b[0m\u001b[0;34m\u001b[0m\u001b[0;34m\u001b[0m\u001b[0m\n\u001b[0m\u001b[1;32m    872\u001b[0m \u001b[0;34m\u001b[0m\u001b[0m\n\u001b[1;32m    873\u001b[0m             \u001b[0;32mif\u001b[0m \u001b[0;32mnot\u001b[0m \u001b[0mis_scalar\u001b[0m\u001b[0;34m(\u001b[0m\u001b[0mresult\u001b[0m\u001b[0;34m)\u001b[0m\u001b[0;34m:\u001b[0m\u001b[0;34m\u001b[0m\u001b[0;34m\u001b[0m\u001b[0m\n",
      "\u001b[0;32m~/anaconda3/lib/python3.7/site-packages/pandas/core/indexes/datetimes.py\u001b[0m in \u001b[0;36mget_value\u001b[0;34m(self, series, key)\u001b[0m\n\u001b[1;32m    660\u001b[0m                 \u001b[0;32mreturn\u001b[0m \u001b[0mself\u001b[0m\u001b[0;34m.\u001b[0m\u001b[0mget_value_maybe_box\u001b[0m\u001b[0;34m(\u001b[0m\u001b[0mseries\u001b[0m\u001b[0;34m,\u001b[0m \u001b[0mkey\u001b[0m\u001b[0;34m)\u001b[0m\u001b[0;34m\u001b[0m\u001b[0;34m\u001b[0m\u001b[0m\n\u001b[1;32m    661\u001b[0m             \u001b[0;32mexcept\u001b[0m \u001b[0;34m(\u001b[0m\u001b[0mTypeError\u001b[0m\u001b[0;34m,\u001b[0m \u001b[0mValueError\u001b[0m\u001b[0;34m,\u001b[0m \u001b[0mKeyError\u001b[0m\u001b[0;34m)\u001b[0m\u001b[0;34m:\u001b[0m\u001b[0;34m\u001b[0m\u001b[0;34m\u001b[0m\u001b[0m\n\u001b[0;32m--> 662\u001b[0;31m                 \u001b[0;32mraise\u001b[0m \u001b[0mKeyError\u001b[0m\u001b[0;34m(\u001b[0m\u001b[0mkey\u001b[0m\u001b[0;34m)\u001b[0m\u001b[0;34m\u001b[0m\u001b[0;34m\u001b[0m\u001b[0m\n\u001b[0m\u001b[1;32m    663\u001b[0m         \u001b[0;32melse\u001b[0m\u001b[0;34m:\u001b[0m\u001b[0;34m\u001b[0m\u001b[0;34m\u001b[0m\u001b[0m\n\u001b[1;32m    664\u001b[0m             \u001b[0;32mreturn\u001b[0m \u001b[0mcom\u001b[0m\u001b[0;34m.\u001b[0m\u001b[0mmaybe_box\u001b[0m\u001b[0;34m(\u001b[0m\u001b[0mself\u001b[0m\u001b[0;34m,\u001b[0m \u001b[0mvalue\u001b[0m\u001b[0;34m,\u001b[0m \u001b[0mseries\u001b[0m\u001b[0;34m,\u001b[0m \u001b[0mkey\u001b[0m\u001b[0;34m)\u001b[0m\u001b[0;34m\u001b[0m\u001b[0;34m\u001b[0m\u001b[0m\n",
      "\u001b[0;31mKeyError\u001b[0m: 'Total'"
     ]
    }
   ],
   "source": [
    "from statsmodels.tsa.seasonal import seasonal_decompose\n",
    "decomposition = seasonal_decompose(indexed_df2_new_logScale)\n",
    "trend = decomposition.trend\n",
    "seasonal = decomposition.seasonal\n",
    "residual = decomposition.resid\n",
    "plt.subplot(411)\n",
    "plt.plot(indexed_df2_new_logScale,label='Original')\n",
    "plt.legend(loc='best')\n",
    "plt.subplot(412)\n",
    "plt.plot(trend,label='Trend')\n",
    "plt.legend(loc='best')\n",
    "plt.subplot(413)\n",
    "plt.plot(seasonal,label='Seasonality')\n",
    "plt.legend(loc='best')\n",
    "plt.subplot(414)\n",
    "plt.plot(residual,label='Residuals')\n",
    "plt.legend(loc='best')\n",
    "plt.tight_layout()\n",
    "\n",
    "decomposedLogData = seasonal\n",
    "decomposedLogData.dropna(inplace=True)\n",
    "test_stationarity(decomposedLogData)\n"
   ]
  },
  {
   "cell_type": "code",
   "execution_count": 57,
   "metadata": {},
   "outputs": [],
   "source": [
    "from statsmodels.tsa.arima_model import ARIMA"
   ]
  },
  {
   "cell_type": "code",
   "execution_count": 58,
   "metadata": {},
   "outputs": [
    {
     "name": "stderr",
     "output_type": "stream",
     "text": [
      "/home/maxtran/anaconda3/lib/python3.7/site-packages/statsmodels/tsa/base/tsa_model.py:162: ValueWarning: No frequency information was provided, so inferred frequency -1D will be used.\n",
      "  % freq, ValueWarning)\n",
      "/home/maxtran/anaconda3/lib/python3.7/site-packages/statsmodels/tsa/base/tsa_model.py:222: ValueWarning: A date index has been provided, but it is not monotonic and so will be ignored when e.g. forecasting.\n",
      "  ' forecasting.', ValueWarning)\n",
      "/home/maxtran/anaconda3/lib/python3.7/site-packages/statsmodels/tsa/base/tsa_model.py:162: ValueWarning: No frequency information was provided, so inferred frequency -1D will be used.\n",
      "  % freq, ValueWarning)\n",
      "/home/maxtran/anaconda3/lib/python3.7/site-packages/statsmodels/tsa/base/tsa_model.py:222: ValueWarning: A date index has been provided, but it is not monotonic and so will be ignored when e.g. forecasting.\n",
      "  ' forecasting.', ValueWarning)\n",
      "No handles with labels found to put in legend.\n"
     ]
    },
    {
     "name": "stdout",
     "output_type": "stream",
     "text": [
      "Plotting AR Model\n"
     ]
    },
    {
     "data": {
      "image/png": "[encoded data removed]",
      "text/plain": [
       "<Figure size 432x288 with 1 Axes>"
      ]
     },
     "metadata": {
      "needs_background": "light"
     },
     "output_type": "display_data"
    }
   ],
   "source": [
    "#AR MODEL\n",
    "model = ARIMA(indexed_df2_new_logScale,order=(0,1,1))\n",
    "result_AR=model.fit(disp=-1)\n",
    "plt.plot(dfLogDiffShifting)\n",
    "plt.plot(result_AR.fittedvalues, color='red')\n",
    "plt.legend(loc='best')\n",
    "plt.title('RSS: %.4f'% sum((result_AR.fittedvalues-dfLogDiffShifting['Total'])**2))\n",
    "print('Plotting AR Model')"
   ]
  },
  {
   "cell_type": "code",
   "execution_count": 59,
   "metadata": {},
   "outputs": [
    {
     "name": "stderr",
     "output_type": "stream",
     "text": [
      "/home/maxtran/anaconda3/lib/python3.7/site-packages/statsmodels/tsa/base/tsa_model.py:162: ValueWarning: No frequency information was provided, so inferred frequency -1D will be used.\n",
      "  % freq, ValueWarning)\n",
      "/home/maxtran/anaconda3/lib/python3.7/site-packages/statsmodels/tsa/base/tsa_model.py:222: ValueWarning: A date index has been provided, but it is not monotonic and so will be ignored when e.g. forecasting.\n",
      "  ' forecasting.', ValueWarning)\n",
      "/home/maxtran/anaconda3/lib/python3.7/site-packages/statsmodels/tsa/base/tsa_model.py:162: ValueWarning: No frequency information was provided, so inferred frequency -1D will be used.\n",
      "  % freq, ValueWarning)\n",
      "/home/maxtran/anaconda3/lib/python3.7/site-packages/statsmodels/tsa/base/tsa_model.py:222: ValueWarning: A date index has been provided, but it is not monotonic and so will be ignored when e.g. forecasting.\n",
      "  ' forecasting.', ValueWarning)\n",
      "No handles with labels found to put in legend.\n"
     ]
    },
    {
     "name": "stdout",
     "output_type": "stream",
     "text": [
      "Plotting AR Model\n"
     ]
    },
    {
     "data": {
      "image/png": "[encoded data removed]",
      "text/plain": [
       "<Figure size 432x288 with 1 Axes>"
      ]
     },
     "metadata": {
      "needs_background": "light"
     },
     "output_type": "display_data"
    }
   ],
   "source": [
    "#AR MODEL\n",
    "model = ARIMA(indexed_df2_new_logScale,order=(0,1,2))\n",
    "result_AR=model.fit(disp=-1)\n",
    "plt.plot(dfLogDiffShifting)\n",
    "plt.plot(result_AR.fittedvalues, color='red')\n",
    "plt.legend(loc='best')\n",
    "plt.title('RSS: %.4f'% sum((result_AR.fittedvalues-dfLogDiffShifting['Total'])**2))\n",
    "print('Plotting AR Model')"
   ]
  },
  {
   "cell_type": "code",
   "execution_count": 60,
   "metadata": {},
   "outputs": [
    {
     "name": "stderr",
     "output_type": "stream",
     "text": [
      "/home/maxtran/anaconda3/lib/python3.7/site-packages/statsmodels/tsa/base/tsa_model.py:162: ValueWarning: No frequency information was provided, so inferred frequency -1D will be used.\n",
      "  % freq, ValueWarning)\n",
      "/home/maxtran/anaconda3/lib/python3.7/site-packages/statsmodels/tsa/base/tsa_model.py:222: ValueWarning: A date index has been provided, but it is not monotonic and so will be ignored when e.g. forecasting.\n",
      "  ' forecasting.', ValueWarning)\n",
      "/home/maxtran/anaconda3/lib/python3.7/site-packages/statsmodels/tsa/base/tsa_model.py:162: ValueWarning: No frequency information was provided, so inferred frequency -1D will be used.\n",
      "  % freq, ValueWarning)\n",
      "/home/maxtran/anaconda3/lib/python3.7/site-packages/statsmodels/tsa/base/tsa_model.py:222: ValueWarning: A date index has been provided, but it is not monotonic and so will be ignored when e.g. forecasting.\n",
      "  ' forecasting.', ValueWarning)\n",
      "/home/maxtran/anaconda3/lib/python3.7/site-packages/statsmodels/base/model.py:548: HessianInversionWarning: Inverting hessian failed, no bse or cov_params available\n",
      "  'available', HessianInversionWarning)\n"
     ]
    },
    {
     "name": "stdout",
     "output_type": "stream",
     "text": [
      "Plotting AR Model\n"
     ]
    },
    {
     "data": {
      "image/png": "[encoded data removed]",
      "text/plain": [
       "<Figure size 432x288 with 1 Axes>"
      ]
     },
     "metadata": {
      "needs_background": "light"
     },
     "output_type": "display_data"
    }
   ],
   "source": [
    "#AR MODEL\n",
    "model = ARIMA(indexed_df2_new_logScale,order=(0,1,3))\n",
    "result_AR = model.fit(disp=-1)\n",
    "plt.plot(dfLogDiffShifting)\n",
    "plt.plot(result_AR.fittedvalues, color='red')\n",
    "plt.title('RSS: %.4f'% sum((result_AR.fittedvalues-dfLogDiffShifting['Total'])**2))\n",
    "print('Plotting AR Model')"
   ]
  },
  {
   "cell_type": "code",
   "execution_count": 61,
   "metadata": {},
   "outputs": [
    {
     "name": "stderr",
     "output_type": "stream",
     "text": [
      "/home/maxtran/anaconda3/lib/python3.7/site-packages/statsmodels/tsa/base/tsa_model.py:162: ValueWarning: No frequency information was provided, so inferred frequency -1D will be used.\n",
      "  % freq, ValueWarning)\n",
      "/home/maxtran/anaconda3/lib/python3.7/site-packages/statsmodels/tsa/base/tsa_model.py:222: ValueWarning: A date index has been provided, but it is not monotonic and so will be ignored when e.g. forecasting.\n",
      "  ' forecasting.', ValueWarning)\n",
      "/home/maxtran/anaconda3/lib/python3.7/site-packages/statsmodels/tsa/base/tsa_model.py:162: ValueWarning: No frequency information was provided, so inferred frequency -1D will be used.\n",
      "  % freq, ValueWarning)\n",
      "/home/maxtran/anaconda3/lib/python3.7/site-packages/statsmodels/tsa/base/tsa_model.py:222: ValueWarning: A date index has been provided, but it is not monotonic and so will be ignored when e.g. forecasting.\n",
      "  ' forecasting.', ValueWarning)\n",
      "No handles with labels found to put in legend.\n"
     ]
    },
    {
     "name": "stdout",
     "output_type": "stream",
     "text": [
      "Plotting AR Model\n"
     ]
    },
    {
     "data": {
      "image/png": "[encoded data removed]",
      "text/plain": [
       "<Figure size 432x288 with 1 Axes>"
      ]
     },
     "metadata": {
      "needs_background": "light"
     },
     "output_type": "display_data"
    }
   ],
   "source": [
    "#Choose the best AR Model based on RSS \n",
    "model = ARIMA(indexed_df2_new_logScale,order=(0,1,1))\n",
    "result_AR=model.fit(disp=-1)\n",
    "plt.plot(dfLogDiffShifting)\n",
    "plt.plot(result_AR.fittedvalues, color='red')\n",
    "plt.legend(loc='best')\n",
    "plt.title('RSS: %.4f'% sum((result_AR.fittedvalues-dfLogDiffShifting['Total'])**2))\n",
    "print('Plotting AR Model')"
   ]
  },
  {
   "cell_type": "code",
   "execution_count": 62,
   "metadata": {},
   "outputs": [
    {
     "name": "stdout",
     "output_type": "stream",
     "text": [
      "Date\n",
      "2020-05-15   -0.014834\n",
      "2020-05-14   -0.040314\n",
      "2020-05-13   -0.010900\n",
      "2020-05-12   -0.011688\n",
      "2020-05-11   -0.020615\n",
      "dtype: float64\n"
     ]
    }
   ],
   "source": [
    "predictions_ARIMA_diff = pd.Series(result_AR.fittedvalues,copy=True)\n",
    "print(predictions_ARIMA_diff.head())"
   ]
  },
  {
   "cell_type": "code",
   "execution_count": 63,
   "metadata": {},
   "outputs": [
    {
     "name": "stdout",
     "output_type": "stream",
     "text": [
      "Date\n",
      "2020-05-15   -0.014834\n",
      "2020-05-14   -0.055149\n",
      "2020-05-13   -0.066048\n",
      "2020-05-12   -0.077737\n",
      "2020-05-11   -0.098351\n",
      "dtype: float64\n"
     ]
    }
   ],
   "source": [
    "#convert to cumulative sum\n",
    "predictions_ARIMA_diff_cumsum = predictions_ARIMA_diff.cumsum()\n",
    "print(predictions_ARIMA_diff_cumsum.head())"
   ]
  },
  {
   "cell_type": "code",
   "execution_count": 64,
   "metadata": {},
   "outputs": [
    {
     "data": {
      "text/plain": [
       "Date\n",
       "2020-05-01    9.637878\n",
       "2020-05-02    9.706094\n",
       "2020-05-03    9.809613\n",
       "2020-05-04    9.704229\n",
       "2020-05-05    9.668944\n",
       "Freq: D, dtype: float64"
      ]
     },
     "execution_count": 64,
     "metadata": {},
     "output_type": "execute_result"
    }
   ],
   "source": [
    "predictions_ARIMA_log =pd.Series(indexed_df2_new_logScale['Total'],index = indexed_df2_new_logScale.index)\n",
    "predictions_ARIMA_log =predictions_ARIMA_log.add(predictions_ARIMA_diff_cumsum,fill_value=0)\n",
    "predictions_ARIMA_log.head()"
   ]
  },
  {
   "cell_type": "code",
   "execution_count": 65,
   "metadata": {},
   "outputs": [
    {
     "data": {
      "text/plain": [
       "[<matplotlib.lines.Line2D at 0x7f0b44b8b910>]"
      ]
     },
     "execution_count": 65,
     "metadata": {},
     "output_type": "execute_result"
    },
    {
     "data": {
      "image/png": "[encoded data removed]",
      "text/plain": [
       "<Figure size 432x288 with 1 Axes>"
      ]
     },
     "metadata": {
      "needs_background": "light"
     },
     "output_type": "display_data"
    }
   ],
   "source": [
    "predictions_ARIMA =np.exp(predictions_ARIMA_log)\n",
    "plt.plot(indexed_df2_new)\n",
    "plt.plot(predictions_ARIMA)"
   ]
  },
  {
   "cell_type": "code",
   "execution_count": 66,
   "metadata": {},
   "outputs": [
    {
     "data": {
      "text/html": [
       "<div>\n",
       "<style scoped>\n",
       "    .dataframe tbody tr th:only-of-type {\n",
       "        vertical-align: middle;\n",
       "    }\n",
       "\n",
       "    .dataframe tbody tr th {\n",
       "        vertical-align: top;\n",
       "    }\n",
       "\n",
       "    .dataframe thead th {\n",
       "        text-align: right;\n",
       "    }\n",
       "</style>\n",
       "<table border=\"1\" class=\"dataframe\">\n",
       "  <thead>\n",
       "    <tr style=\"text-align: right;\">\n",
       "      <th></th>\n",
       "      <th>Total</th>\n",
       "    </tr>\n",
       "    <tr>\n",
       "      <th>Date</th>\n",
       "      <th></th>\n",
       "    </tr>\n",
       "  </thead>\n",
       "  <tbody>\n",
       "    <tr>\n",
       "      <th>2020-05-16</th>\n",
       "      <td>23174.0</td>\n",
       "    </tr>\n",
       "    <tr>\n",
       "      <th>2020-05-15</th>\n",
       "      <td>18828.0</td>\n",
       "    </tr>\n",
       "    <tr>\n",
       "      <th>2020-05-14</th>\n",
       "      <td>18621.0</td>\n",
       "    </tr>\n",
       "    <tr>\n",
       "      <th>2020-05-13</th>\n",
       "      <td>18855.0</td>\n",
       "    </tr>\n",
       "    <tr>\n",
       "      <th>2020-05-12</th>\n",
       "      <td>17852.0</td>\n",
       "    </tr>\n",
       "    <tr>\n",
       "      <th>2020-05-11</th>\n",
       "      <td>18196.0</td>\n",
       "    </tr>\n",
       "    <tr>\n",
       "      <th>2020-05-10</th>\n",
       "      <td>20521.0</td>\n",
       "    </tr>\n",
       "    <tr>\n",
       "      <th>2020-05-09</th>\n",
       "      <td>19794.0</td>\n",
       "    </tr>\n",
       "    <tr>\n",
       "      <th>2020-05-08</th>\n",
       "      <td>18373.0</td>\n",
       "    </tr>\n",
       "    <tr>\n",
       "      <th>2020-05-07</th>\n",
       "      <td>17794.0</td>\n",
       "    </tr>\n",
       "    <tr>\n",
       "      <th>2020-05-06</th>\n",
       "      <td>18536.0</td>\n",
       "    </tr>\n",
       "    <tr>\n",
       "      <th>2020-05-05</th>\n",
       "      <td>18764.0</td>\n",
       "    </tr>\n",
       "    <tr>\n",
       "      <th>2020-05-04</th>\n",
       "      <td>19677.0</td>\n",
       "    </tr>\n",
       "    <tr>\n",
       "      <th>2020-05-03</th>\n",
       "      <td>22013.0</td>\n",
       "    </tr>\n",
       "    <tr>\n",
       "      <th>2020-05-02</th>\n",
       "      <td>19825.0</td>\n",
       "    </tr>\n",
       "    <tr>\n",
       "      <th>2020-05-01</th>\n",
       "      <td>19064.0</td>\n",
       "    </tr>\n",
       "  </tbody>\n",
       "</table>\n",
       "</div>"
      ],
      "text/plain": [
       "              Total\n",
       "Date               \n",
       "2020-05-16  23174.0\n",
       "2020-05-15  18828.0\n",
       "2020-05-14  18621.0\n",
       "2020-05-13  18855.0\n",
       "2020-05-12  17852.0\n",
       "2020-05-11  18196.0\n",
       "2020-05-10  20521.0\n",
       "2020-05-09  19794.0\n",
       "2020-05-08  18373.0\n",
       "2020-05-07  17794.0\n",
       "2020-05-06  18536.0\n",
       "2020-05-05  18764.0\n",
       "2020-05-04  19677.0\n",
       "2020-05-03  22013.0\n",
       "2020-05-02  19825.0\n",
       "2020-05-01  19064.0"
      ]
     },
     "execution_count": 66,
     "metadata": {},
     "output_type": "execute_result"
    }
   ],
   "source": [
    "np.exp(indexed_df2_new_logScale)"
   ]
  },
  {
   "cell_type": "code",
   "execution_count": 70,
   "metadata": {},
   "outputs": [
    {
     "name": "stderr",
     "output_type": "stream",
     "text": [
      "/home/maxtran/anaconda3/lib/python3.7/site-packages/statsmodels/tsa/base/tsa_model.py:583: ValueWarning: No supported index is available. Prediction results will be given with an integer index beginning at `start`.\n",
      "  ValueWarning)\n",
      "/home/maxtran/anaconda3/lib/python3.7/site-packages/statsmodels/tsa/base/tsa_model.py:583: ValueWarning: No supported index is available. Prediction results will be given with an integer index beginning at `start`.\n",
      "  ValueWarning)\n",
      "/home/maxtran/anaconda3/lib/python3.7/site-packages/statsmodels/tsa/base/tsa_model.py:583: ValueWarning: No supported index is available. Prediction results will be given with an integer index beginning at `start`.\n",
      "  ValueWarning)\n"
     ]
    },
    {
     "data": {
      "image/png": "[encoded data removed]",
      "text/plain": [
       "<Figure size 432x288 with 1 Axes>"
      ]
     },
     "metadata": {
      "needs_background": "light"
     },
     "output_type": "display_data"
    }
   ],
   "source": [
    "#prediction\n",
    "result_AR.plot_predict(1,40)\n",
    "x = result_AR.forecast(steps=7)"
   ]
  },
  {
   "cell_type": "code",
   "execution_count": 71,
   "metadata": {},
   "outputs": [
    {
     "data": {
      "text/plain": [
       "(array([9.83936851, 9.82453431, 9.80970011, 9.79486591, 9.7800317 ,\n",
       "        9.7651975 , 9.7503633 ]),\n",
       " array([0.07975306, 0.12061241, 0.15077851, 0.17584357, 0.19775683,\n",
       "        0.21747315, 0.23554484]),\n",
       " array([[ 9.68305538,  9.99568163],\n",
       "        [ 9.58813832, 10.06093029],\n",
       "        [ 9.51417966, 10.10522055],\n",
       "        [ 9.45021884, 10.13951297],\n",
       "        [ 9.39243543, 10.16762798],\n",
       "        [ 9.33895797, 10.19143704],\n",
       "        [ 9.2887039 , 10.21202271]]))"
      ]
     },
     "execution_count": 71,
     "metadata": {},
     "output_type": "execute_result"
    }
   ],
   "source": [
    "result_AR.forecast(steps=7)"
   ]
  },
  {
   "cell_type": "code",
   "execution_count": 72,
   "metadata": {},
   "outputs": [
    {
     "data": {
      "text/html": [
       "<div>\n",
       "<style scoped>\n",
       "    .dataframe tbody tr th:only-of-type {\n",
       "        vertical-align: middle;\n",
       "    }\n",
       "\n",
       "    .dataframe tbody tr th {\n",
       "        vertical-align: top;\n",
       "    }\n",
       "\n",
       "    .dataframe thead th {\n",
       "        text-align: right;\n",
       "    }\n",
       "</style>\n",
       "<table border=\"1\" class=\"dataframe\">\n",
       "  <thead>\n",
       "    <tr style=\"text-align: right;\">\n",
       "      <th></th>\n",
       "      <th>0</th>\n",
       "    </tr>\n",
       "  </thead>\n",
       "  <tbody>\n",
       "    <tr>\n",
       "      <th>0</th>\n",
       "      <td>18757.866800</td>\n",
       "    </tr>\n",
       "    <tr>\n",
       "      <th>1</th>\n",
       "      <td>18481.662547</td>\n",
       "    </tr>\n",
       "    <tr>\n",
       "      <th>2</th>\n",
       "      <td>18209.525323</td>\n",
       "    </tr>\n",
       "    <tr>\n",
       "      <th>3</th>\n",
       "      <td>17941.395242</td>\n",
       "    </tr>\n",
       "    <tr>\n",
       "      <th>4</th>\n",
       "      <td>17677.213300</td>\n",
       "    </tr>\n",
       "    <tr>\n",
       "      <th>5</th>\n",
       "      <td>17416.921362</td>\n",
       "    </tr>\n",
       "    <tr>\n",
       "      <th>6</th>\n",
       "      <td>17160.462149</td>\n",
       "    </tr>\n",
       "  </tbody>\n",
       "</table>\n",
       "</div>"
      ],
      "text/plain": [
       "              0\n",
       "0  18757.866800\n",
       "1  18481.662547\n",
       "2  18209.525323\n",
       "3  17941.395242\n",
       "4  17677.213300\n",
       "5  17416.921362\n",
       "6  17160.462149"
      ]
     },
     "execution_count": 72,
     "metadata": {},
     "output_type": "execute_result"
    }
   ],
   "source": [
    "todf = np.exp(x[0])\n",
    "dudoan=pd.DataFrame(data=todf)\n",
    "dudoan"
   ]
  },
  {
   "cell_type": "code",
   "execution_count": null,
   "metadata": {},
   "outputs": [],
   "source": [
    "#df.to_excel(\"output.xlsx\")"
   ]
  },
  {
   "cell_type": "code",
   "execution_count": null,
   "metadata": {},
   "outputs": [],
   "source": [
    "#df_new = df_new.drop(['Date'],1)"
   ]
  },
  {
   "cell_type": "code",
   "execution_count": null,
   "metadata": {},
   "outputs": [],
   "source": [
    "#df_new.head(5)"
   ]
  },
  {
   "cell_type": "code",
   "execution_count": null,
   "metadata": {},
   "outputs": [],
   "source": [
    "#df_new.dtypes"
   ]
  },
  {
   "cell_type": "code",
   "execution_count": 26,
   "metadata": {},
   "outputs": [],
   "source": [
    "df_merge = df.merge(df2,left_on='DateTime',right_on='Date')"
   ]
  },
  {
   "cell_type": "code",
   "execution_count": 22,
   "metadata": {},
   "outputs": [],
   "source": [
    "df_merge = df_merge.drop(['DateTime'],1)"
   ]
  },
  {
   "cell_type": "code",
   "execution_count": 23,
   "metadata": {},
   "outputs": [],
   "source": [
    "df_merge = df_merge.drop(['Date'],1)"
   ]
  },
  {
   "cell_type": "code",
   "execution_count": 27,
   "metadata": {},
   "outputs": [
    {
     "data": {
      "text/html": [
       "<div>\n",
       "<style scoped>\n",
       "    .dataframe tbody tr th:only-of-type {\n",
       "        vertical-align: middle;\n",
       "    }\n",
       "\n",
       "    .dataframe tbody tr th {\n",
       "        vertical-align: top;\n",
       "    }\n",
       "\n",
       "    .dataframe thead th {\n",
       "        text-align: right;\n",
       "    }\n",
       "</style>\n",
       "<table border=\"1\" class=\"dataframe\">\n",
       "  <thead>\n",
       "    <tr style=\"text-align: right;\">\n",
       "      <th></th>\n",
       "      <th>DateTime</th>\n",
       "      <th>TotalActive</th>\n",
       "      <th>TotalActiveBox</th>\n",
       "      <th>Total</th>\n",
       "      <th>Date</th>\n",
       "    </tr>\n",
       "  </thead>\n",
       "  <tbody>\n",
       "    <tr>\n",
       "      <th>0</th>\n",
       "      <td>2020-05-16</td>\n",
       "      <td>1085908</td>\n",
       "      <td>1201262</td>\n",
       "      <td>23174</td>\n",
       "      <td>2020-05-16</td>\n",
       "    </tr>\n",
       "    <tr>\n",
       "      <th>1</th>\n",
       "      <td>2020-05-15</td>\n",
       "      <td>1085138</td>\n",
       "      <td>1200948</td>\n",
       "      <td>18828</td>\n",
       "      <td>2020-05-15</td>\n",
       "    </tr>\n",
       "    <tr>\n",
       "      <th>2</th>\n",
       "      <td>2020-05-14</td>\n",
       "      <td>1060296</td>\n",
       "      <td>1169755</td>\n",
       "      <td>18621</td>\n",
       "      <td>2020-05-14</td>\n",
       "    </tr>\n",
       "    <tr>\n",
       "      <th>3</th>\n",
       "      <td>2020-05-13</td>\n",
       "      <td>1110616</td>\n",
       "      <td>1232843</td>\n",
       "      <td>18855</td>\n",
       "      <td>2020-05-13</td>\n",
       "    </tr>\n",
       "    <tr>\n",
       "      <th>4</th>\n",
       "      <td>2020-05-12</td>\n",
       "      <td>1085211</td>\n",
       "      <td>1201232</td>\n",
       "      <td>17852</td>\n",
       "      <td>2020-05-12</td>\n",
       "    </tr>\n",
       "  </tbody>\n",
       "</table>\n",
       "</div>"
      ],
      "text/plain": [
       "    DateTime  TotalActive  TotalActiveBox  Total       Date\n",
       "0 2020-05-16      1085908         1201262  23174 2020-05-16\n",
       "1 2020-05-15      1085138         1200948  18828 2020-05-15\n",
       "2 2020-05-14      1060296         1169755  18621 2020-05-14\n",
       "3 2020-05-13      1110616         1232843  18855 2020-05-13\n",
       "4 2020-05-12      1085211         1201232  17852 2020-05-12"
      ]
     },
     "execution_count": 27,
     "metadata": {},
     "output_type": "execute_result"
    }
   ],
   "source": [
    "df_merge.head()"
   ]
  },
  {
   "cell_type": "code",
   "execution_count": 28,
   "metadata": {},
   "outputs": [],
   "source": [
    "df_merge.to_csv(\"data_outputTime\")"
   ]
  },
  {
   "cell_type": "code",
   "execution_count": 92,
   "metadata": {},
   "outputs": [],
   "source": [
    "import pandas as pd\n",
    "import matplotlib.pyplot as plt\n",
    "import numpy as np\n",
    "import seaborn as sns\n",
    "from sklearn.pipeline import Pipeline\n",
    "from sklearn.preprocessing import StandardScaler,PolynomialFeatures\n",
    "from sklearn.linear_model import LinearRegression\n",
    "%matplotlib inline\n"
   ]
  },
  {
   "cell_type": "code",
   "execution_count": 93,
   "metadata": {},
   "outputs": [],
   "source": [
    "scale = StandardScaler()\n",
    "X= df_merge[['TotalActive','TotalActiveBox']]\n",
    "Y = df_merge[['Total']]"
   ]
  },
  {
   "cell_type": "code",
   "execution_count": 94,
   "metadata": {},
   "outputs": [],
   "source": [
    "scaled_DF = scale.fit_transform(df_merge)"
   ]
  },
  {
   "cell_type": "code",
   "execution_count": 95,
   "metadata": {},
   "outputs": [],
   "source": [
    "scaledX = scale.fit_transform(X)\n",
    "\n"
   ]
  },
  {
   "cell_type": "code",
   "execution_count": 96,
   "metadata": {},
   "outputs": [],
   "source": [
    "scaledY = scale.fit_transform(Y)"
   ]
  },
  {
   "cell_type": "code",
   "execution_count": 97,
   "metadata": {},
   "outputs": [
    {
     "data": {
      "text/plain": [
       "array([[-4.76870268e-01, -6.25373483e-01,  8.55224329e-02],\n",
       "       [-5.17005618e-01, -6.38581163e-01, -1.24547307e+00],\n",
       "       [-1.81186583e+00, -1.95064212e+00, -1.30886839e+00],\n",
       "       [ 8.11005348e-01,  7.03007794e-01, -1.23720411e+00],\n",
       "       [-5.13200578e-01, -6.26635363e-01, -1.54438048e+00],\n",
       "       [-9.15283810e-01, -9.83915708e-01, -1.43902787e+00],\n",
       "       [-5.73247231e-01, -6.74628873e-01, -7.26978962e-01],\n",
       "       [-9.94147166e-01, -1.07287826e+00, -9.49628232e-01],\n",
       "       [-8.46532477e-01, -9.01514932e-01, -1.38482027e+00],\n",
       "       [-4.53883658e-01, -5.26442076e-01, -1.56214342e+00],\n",
       "       [-6.54508284e-01, -7.08236949e-01, -1.33490028e+00],\n",
       "       [ 2.25550478e-01,  1.81767150e-01, -1.26507355e+00],\n",
       "       [ 4.79185040e-01,  4.18622062e-01, -9.85460371e-01],\n",
       "       [-5.64386180e-01, -6.42282678e-01, -2.70042633e-01],\n",
       "       [-2.52090630e+00, -2.45652989e+00, -9.40134247e-01],\n",
       "       [-1.70851256e-01, -9.07119783e-03, -1.17319628e+00],\n",
       "       [-2.09354301e+00, -2.04393713e+00, -4.47672037e-01],\n",
       "       [ 1.37008556e+00,  1.37790338e+00, -4.60534856e-01],\n",
       "       [ 2.44435771e+00,  2.47237414e+00, -4.70947614e-01],\n",
       "       [ 7.62686556e-01,  7.38803129e-01, -3.39869364e-01],\n",
       "       [ 8.67663952e-01,  8.01602700e-01,  5.33271034e-01],\n",
       "       [ 6.82884971e-01,  6.51523082e-01,  4.49356454e-01],\n",
       "       [ 1.00782493e+00,  9.95090996e-01,  1.19517026e-01],\n",
       "       [ 9.27658481e-01,  9.25393146e-01, -1.76098116e-03],\n",
       "       [ 1.10123084e+00,  1.10197225e+00,  1.03285373e-01],\n",
       "       [ 6.77933207e-01,  6.89000924e-01,  2.86733672e-01],\n",
       "       [ 7.29848543e-01,  7.22819313e-01,  3.01740294e-01],\n",
       "       [ 7.72746456e-01,  7.48183105e-01,  1.00552024e+00],\n",
       "       [ 2.83303683e-01,  2.97271250e-01,  8.57904083e-01],\n",
       "       [ 5.55650700e-01,  5.86662440e-01,  4.63138045e-01],\n",
       "       [ 6.71678347e-01,  6.97119020e-01,  5.47971399e-01],\n",
       "       [ 5.71444220e-01,  5.94570223e-01,  5.61752990e-01],\n",
       "       [ 7.19580148e-01,  7.48393418e-01,  5.42458762e-01],\n",
       "       [ 8.11943576e-01,  8.67094282e-01,  7.91446185e-01],\n",
       "       [ 2.72253431e-01,  3.01729893e-01,  1.37027304e+00],\n",
       "       [-2.73795822e-01, -2.08953020e-01,  1.19233737e+00],\n",
       "       [-1.14661766e-01, -3.46873657e-02,  6.99568907e-01],\n",
       "       [ 2.15334207e-01,  2.72370147e-01,  8.03696489e-01],\n",
       "       [ 2.23413401e-01,  3.06903602e-01,  8.78423342e-01],\n",
       "       [-3.19412467e-02,  4.24135140e-02,  1.01715803e+00],\n",
       "       [ 9.53972723e-02,  2.02966737e-01,  1.03216465e+00],\n",
       "       [-1.17819641e+00, -1.08208999e+00,  2.04158968e+00],\n",
       "       [-2.46695813e+00, -2.27288426e+00,  1.88723585e+00],\n",
       "       [-1.08876021e-01,  1.37267710e-02,  1.51605165e+00]])"
      ]
     },
     "execution_count": 97,
     "metadata": {},
     "output_type": "execute_result"
    }
   ],
   "source": [
    "scaled_DF"
   ]
  },
  {
   "cell_type": "code",
   "execution_count": 98,
   "metadata": {},
   "outputs": [],
   "source": [
    "array_to_df = pd.DataFrame(scaled_DF)"
   ]
  },
  {
   "cell_type": "code",
   "execution_count": 99,
   "metadata": {},
   "outputs": [
    {
     "data": {
      "text/html": [
       "<div>\n",
       "<style scoped>\n",
       "    .dataframe tbody tr th:only-of-type {\n",
       "        vertical-align: middle;\n",
       "    }\n",
       "\n",
       "    .dataframe tbody tr th {\n",
       "        vertical-align: top;\n",
       "    }\n",
       "\n",
       "    .dataframe thead th {\n",
       "        text-align: right;\n",
       "    }\n",
       "</style>\n",
       "<table border=\"1\" class=\"dataframe\">\n",
       "  <thead>\n",
       "    <tr style=\"text-align: right;\">\n",
       "      <th></th>\n",
       "      <th>0</th>\n",
       "      <th>1</th>\n",
       "      <th>2</th>\n",
       "    </tr>\n",
       "  </thead>\n",
       "  <tbody>\n",
       "    <tr>\n",
       "      <th>0</th>\n",
       "      <td>-0.476870</td>\n",
       "      <td>-0.625373</td>\n",
       "      <td>0.085522</td>\n",
       "    </tr>\n",
       "    <tr>\n",
       "      <th>1</th>\n",
       "      <td>-0.517006</td>\n",
       "      <td>-0.638581</td>\n",
       "      <td>-1.245473</td>\n",
       "    </tr>\n",
       "    <tr>\n",
       "      <th>2</th>\n",
       "      <td>-1.811866</td>\n",
       "      <td>-1.950642</td>\n",
       "      <td>-1.308868</td>\n",
       "    </tr>\n",
       "    <tr>\n",
       "      <th>3</th>\n",
       "      <td>0.811005</td>\n",
       "      <td>0.703008</td>\n",
       "      <td>-1.237204</td>\n",
       "    </tr>\n",
       "    <tr>\n",
       "      <th>4</th>\n",
       "      <td>-0.513201</td>\n",
       "      <td>-0.626635</td>\n",
       "      <td>-1.544380</td>\n",
       "    </tr>\n",
       "    <tr>\n",
       "      <th>5</th>\n",
       "      <td>-0.915284</td>\n",
       "      <td>-0.983916</td>\n",
       "      <td>-1.439028</td>\n",
       "    </tr>\n",
       "    <tr>\n",
       "      <th>6</th>\n",
       "      <td>-0.573247</td>\n",
       "      <td>-0.674629</td>\n",
       "      <td>-0.726979</td>\n",
       "    </tr>\n",
       "    <tr>\n",
       "      <th>7</th>\n",
       "      <td>-0.994147</td>\n",
       "      <td>-1.072878</td>\n",
       "      <td>-0.949628</td>\n",
       "    </tr>\n",
       "    <tr>\n",
       "      <th>8</th>\n",
       "      <td>-0.846532</td>\n",
       "      <td>-0.901515</td>\n",
       "      <td>-1.384820</td>\n",
       "    </tr>\n",
       "    <tr>\n",
       "      <th>9</th>\n",
       "      <td>-0.453884</td>\n",
       "      <td>-0.526442</td>\n",
       "      <td>-1.562143</td>\n",
       "    </tr>\n",
       "    <tr>\n",
       "      <th>10</th>\n",
       "      <td>-0.654508</td>\n",
       "      <td>-0.708237</td>\n",
       "      <td>-1.334900</td>\n",
       "    </tr>\n",
       "    <tr>\n",
       "      <th>11</th>\n",
       "      <td>0.225550</td>\n",
       "      <td>0.181767</td>\n",
       "      <td>-1.265074</td>\n",
       "    </tr>\n",
       "    <tr>\n",
       "      <th>12</th>\n",
       "      <td>0.479185</td>\n",
       "      <td>0.418622</td>\n",
       "      <td>-0.985460</td>\n",
       "    </tr>\n",
       "    <tr>\n",
       "      <th>13</th>\n",
       "      <td>-0.564386</td>\n",
       "      <td>-0.642283</td>\n",
       "      <td>-0.270043</td>\n",
       "    </tr>\n",
       "    <tr>\n",
       "      <th>14</th>\n",
       "      <td>-2.520906</td>\n",
       "      <td>-2.456530</td>\n",
       "      <td>-0.940134</td>\n",
       "    </tr>\n",
       "    <tr>\n",
       "      <th>15</th>\n",
       "      <td>-0.170851</td>\n",
       "      <td>-0.009071</td>\n",
       "      <td>-1.173196</td>\n",
       "    </tr>\n",
       "    <tr>\n",
       "      <th>16</th>\n",
       "      <td>-2.093543</td>\n",
       "      <td>-2.043937</td>\n",
       "      <td>-0.447672</td>\n",
       "    </tr>\n",
       "    <tr>\n",
       "      <th>17</th>\n",
       "      <td>1.370086</td>\n",
       "      <td>1.377903</td>\n",
       "      <td>-0.460535</td>\n",
       "    </tr>\n",
       "    <tr>\n",
       "      <th>18</th>\n",
       "      <td>2.444358</td>\n",
       "      <td>2.472374</td>\n",
       "      <td>-0.470948</td>\n",
       "    </tr>\n",
       "    <tr>\n",
       "      <th>19</th>\n",
       "      <td>0.762687</td>\n",
       "      <td>0.738803</td>\n",
       "      <td>-0.339869</td>\n",
       "    </tr>\n",
       "    <tr>\n",
       "      <th>20</th>\n",
       "      <td>0.867664</td>\n",
       "      <td>0.801603</td>\n",
       "      <td>0.533271</td>\n",
       "    </tr>\n",
       "    <tr>\n",
       "      <th>21</th>\n",
       "      <td>0.682885</td>\n",
       "      <td>0.651523</td>\n",
       "      <td>0.449356</td>\n",
       "    </tr>\n",
       "    <tr>\n",
       "      <th>22</th>\n",
       "      <td>1.007825</td>\n",
       "      <td>0.995091</td>\n",
       "      <td>0.119517</td>\n",
       "    </tr>\n",
       "    <tr>\n",
       "      <th>23</th>\n",
       "      <td>0.927658</td>\n",
       "      <td>0.925393</td>\n",
       "      <td>-0.001761</td>\n",
       "    </tr>\n",
       "    <tr>\n",
       "      <th>24</th>\n",
       "      <td>1.101231</td>\n",
       "      <td>1.101972</td>\n",
       "      <td>0.103285</td>\n",
       "    </tr>\n",
       "    <tr>\n",
       "      <th>25</th>\n",
       "      <td>0.677933</td>\n",
       "      <td>0.689001</td>\n",
       "      <td>0.286734</td>\n",
       "    </tr>\n",
       "    <tr>\n",
       "      <th>26</th>\n",
       "      <td>0.729849</td>\n",
       "      <td>0.722819</td>\n",
       "      <td>0.301740</td>\n",
       "    </tr>\n",
       "    <tr>\n",
       "      <th>27</th>\n",
       "      <td>0.772746</td>\n",
       "      <td>0.748183</td>\n",
       "      <td>1.005520</td>\n",
       "    </tr>\n",
       "    <tr>\n",
       "      <th>28</th>\n",
       "      <td>0.283304</td>\n",
       "      <td>0.297271</td>\n",
       "      <td>0.857904</td>\n",
       "    </tr>\n",
       "    <tr>\n",
       "      <th>29</th>\n",
       "      <td>0.555651</td>\n",
       "      <td>0.586662</td>\n",
       "      <td>0.463138</td>\n",
       "    </tr>\n",
       "    <tr>\n",
       "      <th>30</th>\n",
       "      <td>0.671678</td>\n",
       "      <td>0.697119</td>\n",
       "      <td>0.547971</td>\n",
       "    </tr>\n",
       "    <tr>\n",
       "      <th>31</th>\n",
       "      <td>0.571444</td>\n",
       "      <td>0.594570</td>\n",
       "      <td>0.561753</td>\n",
       "    </tr>\n",
       "    <tr>\n",
       "      <th>32</th>\n",
       "      <td>0.719580</td>\n",
       "      <td>0.748393</td>\n",
       "      <td>0.542459</td>\n",
       "    </tr>\n",
       "    <tr>\n",
       "      <th>33</th>\n",
       "      <td>0.811944</td>\n",
       "      <td>0.867094</td>\n",
       "      <td>0.791446</td>\n",
       "    </tr>\n",
       "    <tr>\n",
       "      <th>34</th>\n",
       "      <td>0.272253</td>\n",
       "      <td>0.301730</td>\n",
       "      <td>1.370273</td>\n",
       "    </tr>\n",
       "    <tr>\n",
       "      <th>35</th>\n",
       "      <td>-0.273796</td>\n",
       "      <td>-0.208953</td>\n",
       "      <td>1.192337</td>\n",
       "    </tr>\n",
       "    <tr>\n",
       "      <th>36</th>\n",
       "      <td>-0.114662</td>\n",
       "      <td>-0.034687</td>\n",
       "      <td>0.699569</td>\n",
       "    </tr>\n",
       "    <tr>\n",
       "      <th>37</th>\n",
       "      <td>0.215334</td>\n",
       "      <td>0.272370</td>\n",
       "      <td>0.803696</td>\n",
       "    </tr>\n",
       "    <tr>\n",
       "      <th>38</th>\n",
       "      <td>0.223413</td>\n",
       "      <td>0.306904</td>\n",
       "      <td>0.878423</td>\n",
       "    </tr>\n",
       "    <tr>\n",
       "      <th>39</th>\n",
       "      <td>-0.031941</td>\n",
       "      <td>0.042414</td>\n",
       "      <td>1.017158</td>\n",
       "    </tr>\n",
       "    <tr>\n",
       "      <th>40</th>\n",
       "      <td>0.095397</td>\n",
       "      <td>0.202967</td>\n",
       "      <td>1.032165</td>\n",
       "    </tr>\n",
       "    <tr>\n",
       "      <th>41</th>\n",
       "      <td>-1.178196</td>\n",
       "      <td>-1.082090</td>\n",
       "      <td>2.041590</td>\n",
       "    </tr>\n",
       "    <tr>\n",
       "      <th>42</th>\n",
       "      <td>-2.466958</td>\n",
       "      <td>-2.272884</td>\n",
       "      <td>1.887236</td>\n",
       "    </tr>\n",
       "    <tr>\n",
       "      <th>43</th>\n",
       "      <td>-0.108876</td>\n",
       "      <td>0.013727</td>\n",
       "      <td>1.516052</td>\n",
       "    </tr>\n",
       "  </tbody>\n",
       "</table>\n",
       "</div>"
      ],
      "text/plain": [
       "           0         1         2\n",
       "0  -0.476870 -0.625373  0.085522\n",
       "1  -0.517006 -0.638581 -1.245473\n",
       "2  -1.811866 -1.950642 -1.308868\n",
       "3   0.811005  0.703008 -1.237204\n",
       "4  -0.513201 -0.626635 -1.544380\n",
       "5  -0.915284 -0.983916 -1.439028\n",
       "6  -0.573247 -0.674629 -0.726979\n",
       "7  -0.994147 -1.072878 -0.949628\n",
       "8  -0.846532 -0.901515 -1.384820\n",
       "9  -0.453884 -0.526442 -1.562143\n",
       "10 -0.654508 -0.708237 -1.334900\n",
       "11  0.225550  0.181767 -1.265074\n",
       "12  0.479185  0.418622 -0.985460\n",
       "13 -0.564386 -0.642283 -0.270043\n",
       "14 -2.520906 -2.456530 -0.940134\n",
       "15 -0.170851 -0.009071 -1.173196\n",
       "16 -2.093543 -2.043937 -0.447672\n",
       "17  1.370086  1.377903 -0.460535\n",
       "18  2.444358  2.472374 -0.470948\n",
       "19  0.762687  0.738803 -0.339869\n",
       "20  0.867664  0.801603  0.533271\n",
       "21  0.682885  0.651523  0.449356\n",
       "22  1.007825  0.995091  0.119517\n",
       "23  0.927658  0.925393 -0.001761\n",
       "24  1.101231  1.101972  0.103285\n",
       "25  0.677933  0.689001  0.286734\n",
       "26  0.729849  0.722819  0.301740\n",
       "27  0.772746  0.748183  1.005520\n",
       "28  0.283304  0.297271  0.857904\n",
       "29  0.555651  0.586662  0.463138\n",
       "30  0.671678  0.697119  0.547971\n",
       "31  0.571444  0.594570  0.561753\n",
       "32  0.719580  0.748393  0.542459\n",
       "33  0.811944  0.867094  0.791446\n",
       "34  0.272253  0.301730  1.370273\n",
       "35 -0.273796 -0.208953  1.192337\n",
       "36 -0.114662 -0.034687  0.699569\n",
       "37  0.215334  0.272370  0.803696\n",
       "38  0.223413  0.306904  0.878423\n",
       "39 -0.031941  0.042414  1.017158\n",
       "40  0.095397  0.202967  1.032165\n",
       "41 -1.178196 -1.082090  2.041590\n",
       "42 -2.466958 -2.272884  1.887236\n",
       "43 -0.108876  0.013727  1.516052"
      ]
     },
     "execution_count": 99,
     "metadata": {},
     "output_type": "execute_result"
    }
   ],
   "source": [
    "array_to_df"
   ]
  },
  {
   "cell_type": "code",
   "execution_count": 100,
   "metadata": {},
   "outputs": [],
   "source": [
    "array_to_df = array_to_df.rename(columns={0: 'TotalActive', 1: 'TotalActiveBox',2:'Total'})"
   ]
  },
  {
   "cell_type": "code",
   "execution_count": 101,
   "metadata": {},
   "outputs": [
    {
     "data": {
      "text/html": [
       "<div>\n",
       "<style scoped>\n",
       "    .dataframe tbody tr th:only-of-type {\n",
       "        vertical-align: middle;\n",
       "    }\n",
       "\n",
       "    .dataframe tbody tr th {\n",
       "        vertical-align: top;\n",
       "    }\n",
       "\n",
       "    .dataframe thead th {\n",
       "        text-align: right;\n",
       "    }\n",
       "</style>\n",
       "<table border=\"1\" class=\"dataframe\">\n",
       "  <thead>\n",
       "    <tr style=\"text-align: right;\">\n",
       "      <th></th>\n",
       "      <th>TotalActive</th>\n",
       "      <th>TotalActiveBox</th>\n",
       "      <th>Total</th>\n",
       "    </tr>\n",
       "  </thead>\n",
       "  <tbody>\n",
       "    <tr>\n",
       "      <th>0</th>\n",
       "      <td>-0.476870</td>\n",
       "      <td>-0.625373</td>\n",
       "      <td>0.085522</td>\n",
       "    </tr>\n",
       "    <tr>\n",
       "      <th>1</th>\n",
       "      <td>-0.517006</td>\n",
       "      <td>-0.638581</td>\n",
       "      <td>-1.245473</td>\n",
       "    </tr>\n",
       "    <tr>\n",
       "      <th>2</th>\n",
       "      <td>-1.811866</td>\n",
       "      <td>-1.950642</td>\n",
       "      <td>-1.308868</td>\n",
       "    </tr>\n",
       "    <tr>\n",
       "      <th>3</th>\n",
       "      <td>0.811005</td>\n",
       "      <td>0.703008</td>\n",
       "      <td>-1.237204</td>\n",
       "    </tr>\n",
       "    <tr>\n",
       "      <th>4</th>\n",
       "      <td>-0.513201</td>\n",
       "      <td>-0.626635</td>\n",
       "      <td>-1.544380</td>\n",
       "    </tr>\n",
       "    <tr>\n",
       "      <th>5</th>\n",
       "      <td>-0.915284</td>\n",
       "      <td>-0.983916</td>\n",
       "      <td>-1.439028</td>\n",
       "    </tr>\n",
       "    <tr>\n",
       "      <th>6</th>\n",
       "      <td>-0.573247</td>\n",
       "      <td>-0.674629</td>\n",
       "      <td>-0.726979</td>\n",
       "    </tr>\n",
       "    <tr>\n",
       "      <th>7</th>\n",
       "      <td>-0.994147</td>\n",
       "      <td>-1.072878</td>\n",
       "      <td>-0.949628</td>\n",
       "    </tr>\n",
       "    <tr>\n",
       "      <th>8</th>\n",
       "      <td>-0.846532</td>\n",
       "      <td>-0.901515</td>\n",
       "      <td>-1.384820</td>\n",
       "    </tr>\n",
       "    <tr>\n",
       "      <th>9</th>\n",
       "      <td>-0.453884</td>\n",
       "      <td>-0.526442</td>\n",
       "      <td>-1.562143</td>\n",
       "    </tr>\n",
       "    <tr>\n",
       "      <th>10</th>\n",
       "      <td>-0.654508</td>\n",
       "      <td>-0.708237</td>\n",
       "      <td>-1.334900</td>\n",
       "    </tr>\n",
       "    <tr>\n",
       "      <th>11</th>\n",
       "      <td>0.225550</td>\n",
       "      <td>0.181767</td>\n",
       "      <td>-1.265074</td>\n",
       "    </tr>\n",
       "    <tr>\n",
       "      <th>12</th>\n",
       "      <td>0.479185</td>\n",
       "      <td>0.418622</td>\n",
       "      <td>-0.985460</td>\n",
       "    </tr>\n",
       "    <tr>\n",
       "      <th>13</th>\n",
       "      <td>-0.564386</td>\n",
       "      <td>-0.642283</td>\n",
       "      <td>-0.270043</td>\n",
       "    </tr>\n",
       "    <tr>\n",
       "      <th>14</th>\n",
       "      <td>-2.520906</td>\n",
       "      <td>-2.456530</td>\n",
       "      <td>-0.940134</td>\n",
       "    </tr>\n",
       "    <tr>\n",
       "      <th>15</th>\n",
       "      <td>-0.170851</td>\n",
       "      <td>-0.009071</td>\n",
       "      <td>-1.173196</td>\n",
       "    </tr>\n",
       "    <tr>\n",
       "      <th>16</th>\n",
       "      <td>-2.093543</td>\n",
       "      <td>-2.043937</td>\n",
       "      <td>-0.447672</td>\n",
       "    </tr>\n",
       "    <tr>\n",
       "      <th>17</th>\n",
       "      <td>1.370086</td>\n",
       "      <td>1.377903</td>\n",
       "      <td>-0.460535</td>\n",
       "    </tr>\n",
       "    <tr>\n",
       "      <th>18</th>\n",
       "      <td>2.444358</td>\n",
       "      <td>2.472374</td>\n",
       "      <td>-0.470948</td>\n",
       "    </tr>\n",
       "    <tr>\n",
       "      <th>19</th>\n",
       "      <td>0.762687</td>\n",
       "      <td>0.738803</td>\n",
       "      <td>-0.339869</td>\n",
       "    </tr>\n",
       "    <tr>\n",
       "      <th>20</th>\n",
       "      <td>0.867664</td>\n",
       "      <td>0.801603</td>\n",
       "      <td>0.533271</td>\n",
       "    </tr>\n",
       "    <tr>\n",
       "      <th>21</th>\n",
       "      <td>0.682885</td>\n",
       "      <td>0.651523</td>\n",
       "      <td>0.449356</td>\n",
       "    </tr>\n",
       "    <tr>\n",
       "      <th>22</th>\n",
       "      <td>1.007825</td>\n",
       "      <td>0.995091</td>\n",
       "      <td>0.119517</td>\n",
       "    </tr>\n",
       "    <tr>\n",
       "      <th>23</th>\n",
       "      <td>0.927658</td>\n",
       "      <td>0.925393</td>\n",
       "      <td>-0.001761</td>\n",
       "    </tr>\n",
       "    <tr>\n",
       "      <th>24</th>\n",
       "      <td>1.101231</td>\n",
       "      <td>1.101972</td>\n",
       "      <td>0.103285</td>\n",
       "    </tr>\n",
       "    <tr>\n",
       "      <th>25</th>\n",
       "      <td>0.677933</td>\n",
       "      <td>0.689001</td>\n",
       "      <td>0.286734</td>\n",
       "    </tr>\n",
       "    <tr>\n",
       "      <th>26</th>\n",
       "      <td>0.729849</td>\n",
       "      <td>0.722819</td>\n",
       "      <td>0.301740</td>\n",
       "    </tr>\n",
       "    <tr>\n",
       "      <th>27</th>\n",
       "      <td>0.772746</td>\n",
       "      <td>0.748183</td>\n",
       "      <td>1.005520</td>\n",
       "    </tr>\n",
       "    <tr>\n",
       "      <th>28</th>\n",
       "      <td>0.283304</td>\n",
       "      <td>0.297271</td>\n",
       "      <td>0.857904</td>\n",
       "    </tr>\n",
       "    <tr>\n",
       "      <th>29</th>\n",
       "      <td>0.555651</td>\n",
       "      <td>0.586662</td>\n",
       "      <td>0.463138</td>\n",
       "    </tr>\n",
       "    <tr>\n",
       "      <th>30</th>\n",
       "      <td>0.671678</td>\n",
       "      <td>0.697119</td>\n",
       "      <td>0.547971</td>\n",
       "    </tr>\n",
       "    <tr>\n",
       "      <th>31</th>\n",
       "      <td>0.571444</td>\n",
       "      <td>0.594570</td>\n",
       "      <td>0.561753</td>\n",
       "    </tr>\n",
       "    <tr>\n",
       "      <th>32</th>\n",
       "      <td>0.719580</td>\n",
       "      <td>0.748393</td>\n",
       "      <td>0.542459</td>\n",
       "    </tr>\n",
       "    <tr>\n",
       "      <th>33</th>\n",
       "      <td>0.811944</td>\n",
       "      <td>0.867094</td>\n",
       "      <td>0.791446</td>\n",
       "    </tr>\n",
       "    <tr>\n",
       "      <th>34</th>\n",
       "      <td>0.272253</td>\n",
       "      <td>0.301730</td>\n",
       "      <td>1.370273</td>\n",
       "    </tr>\n",
       "    <tr>\n",
       "      <th>35</th>\n",
       "      <td>-0.273796</td>\n",
       "      <td>-0.208953</td>\n",
       "      <td>1.192337</td>\n",
       "    </tr>\n",
       "    <tr>\n",
       "      <th>36</th>\n",
       "      <td>-0.114662</td>\n",
       "      <td>-0.034687</td>\n",
       "      <td>0.699569</td>\n",
       "    </tr>\n",
       "    <tr>\n",
       "      <th>37</th>\n",
       "      <td>0.215334</td>\n",
       "      <td>0.272370</td>\n",
       "      <td>0.803696</td>\n",
       "    </tr>\n",
       "    <tr>\n",
       "      <th>38</th>\n",
       "      <td>0.223413</td>\n",
       "      <td>0.306904</td>\n",
       "      <td>0.878423</td>\n",
       "    </tr>\n",
       "    <tr>\n",
       "      <th>39</th>\n",
       "      <td>-0.031941</td>\n",
       "      <td>0.042414</td>\n",
       "      <td>1.017158</td>\n",
       "    </tr>\n",
       "    <tr>\n",
       "      <th>40</th>\n",
       "      <td>0.095397</td>\n",
       "      <td>0.202967</td>\n",
       "      <td>1.032165</td>\n",
       "    </tr>\n",
       "    <tr>\n",
       "      <th>41</th>\n",
       "      <td>-1.178196</td>\n",
       "      <td>-1.082090</td>\n",
       "      <td>2.041590</td>\n",
       "    </tr>\n",
       "    <tr>\n",
       "      <th>42</th>\n",
       "      <td>-2.466958</td>\n",
       "      <td>-2.272884</td>\n",
       "      <td>1.887236</td>\n",
       "    </tr>\n",
       "    <tr>\n",
       "      <th>43</th>\n",
       "      <td>-0.108876</td>\n",
       "      <td>0.013727</td>\n",
       "      <td>1.516052</td>\n",
       "    </tr>\n",
       "  </tbody>\n",
       "</table>\n",
       "</div>"
      ],
      "text/plain": [
       "    TotalActive  TotalActiveBox     Total\n",
       "0     -0.476870       -0.625373  0.085522\n",
       "1     -0.517006       -0.638581 -1.245473\n",
       "2     -1.811866       -1.950642 -1.308868\n",
       "3      0.811005        0.703008 -1.237204\n",
       "4     -0.513201       -0.626635 -1.544380\n",
       "5     -0.915284       -0.983916 -1.439028\n",
       "6     -0.573247       -0.674629 -0.726979\n",
       "7     -0.994147       -1.072878 -0.949628\n",
       "8     -0.846532       -0.901515 -1.384820\n",
       "9     -0.453884       -0.526442 -1.562143\n",
       "10    -0.654508       -0.708237 -1.334900\n",
       "11     0.225550        0.181767 -1.265074\n",
       "12     0.479185        0.418622 -0.985460\n",
       "13    -0.564386       -0.642283 -0.270043\n",
       "14    -2.520906       -2.456530 -0.940134\n",
       "15    -0.170851       -0.009071 -1.173196\n",
       "16    -2.093543       -2.043937 -0.447672\n",
       "17     1.370086        1.377903 -0.460535\n",
       "18     2.444358        2.472374 -0.470948\n",
       "19     0.762687        0.738803 -0.339869\n",
       "20     0.867664        0.801603  0.533271\n",
       "21     0.682885        0.651523  0.449356\n",
       "22     1.007825        0.995091  0.119517\n",
       "23     0.927658        0.925393 -0.001761\n",
       "24     1.101231        1.101972  0.103285\n",
       "25     0.677933        0.689001  0.286734\n",
       "26     0.729849        0.722819  0.301740\n",
       "27     0.772746        0.748183  1.005520\n",
       "28     0.283304        0.297271  0.857904\n",
       "29     0.555651        0.586662  0.463138\n",
       "30     0.671678        0.697119  0.547971\n",
       "31     0.571444        0.594570  0.561753\n",
       "32     0.719580        0.748393  0.542459\n",
       "33     0.811944        0.867094  0.791446\n",
       "34     0.272253        0.301730  1.370273\n",
       "35    -0.273796       -0.208953  1.192337\n",
       "36    -0.114662       -0.034687  0.699569\n",
       "37     0.215334        0.272370  0.803696\n",
       "38     0.223413        0.306904  0.878423\n",
       "39    -0.031941        0.042414  1.017158\n",
       "40     0.095397        0.202967  1.032165\n",
       "41    -1.178196       -1.082090  2.041590\n",
       "42    -2.466958       -2.272884  1.887236\n",
       "43    -0.108876        0.013727  1.516052"
      ]
     },
     "execution_count": 101,
     "metadata": {},
     "output_type": "execute_result"
    }
   ],
   "source": [
    "array_to_df"
   ]
  },
  {
   "cell_type": "code",
   "execution_count": 102,
   "metadata": {},
   "outputs": [
    {
     "data": {
      "text/plain": [
       "TotalActive       0.151127\n",
       "TotalActiveBox    0.202456\n",
       "Total             1.000000\n",
       "Name: Total, dtype: float64"
      ]
     },
     "execution_count": 102,
     "metadata": {},
     "output_type": "execute_result"
    }
   ],
   "source": [
    "array_to_df.corr()['Total'].sort_values()"
   ]
  },
  {
   "cell_type": "code",
   "execution_count": 106,
   "metadata": {},
   "outputs": [
    {
     "data": {
      "text/plain": [
       "<matplotlib.axes._subplots.AxesSubplot at 0x7f0b4501eed0>"
      ]
     },
     "execution_count": 106,
     "metadata": {},
     "output_type": "execute_result"
    },
    {
     "data": {
      "image/png": "[encoded data removed]",
      "text/plain": [
       "<Figure size 432x288 with 1 Axes>"
      ]
     },
     "metadata": {
      "needs_background": "light"
     },
     "output_type": "display_data"
    }
   ],
   "source": [
    "sns.boxplot(x= 'TotalActive', y ='Total', data = array_to_df)\n"
   ]
  },
  {
   "cell_type": "code",
   "execution_count": 108,
   "metadata": {},
   "outputs": [
    {
     "data": {
      "text/plain": [
       "<matplotlib.axes._subplots.AxesSubplot at 0x7f0b47a52210>"
      ]
     },
     "execution_count": 108,
     "metadata": {},
     "output_type": "execute_result"
    },
    {
     "data": {
      "image/png": "[encoded data removed]",
      "text/plain": [
       "<Figure size 432x288 with 1 Axes>"
      ]
     },
     "metadata": {
      "needs_background": "light"
     },
     "output_type": "display_data"
    }
   ],
   "source": [
    "sns.boxplot(x='TotalActiveBox', y ='Total', data = array_to_df)\n"
   ]
  },
  {
   "cell_type": "code",
   "execution_count": null,
   "metadata": {},
   "outputs": [],
   "source": [
    "#sns.regplot(x='TotalActive', y='Total Key', data=df_new)"
   ]
  },
  {
   "cell_type": "code",
   "execution_count": null,
   "metadata": {},
   "outputs": [],
   "source": [
    "#sns.regplot(x='TotalActiveBox', y='Total Key', data=df_new)"
   ]
  },
  {
   "cell_type": "code",
   "execution_count": null,
   "metadata": {},
   "outputs": [],
   "source": [
    "## Correlation Calculation # "
   ]
  },
  {
   "cell_type": "code",
   "execution_count": null,
   "metadata": {},
   "outputs": [],
   "source": [
    "#df_new.corr()['Total Key'].sort_values()"
   ]
  },
  {
   "cell_type": "code",
   "execution_count": null,
   "metadata": {},
   "outputs": [],
   "source": [
    "#X = df_new[['TotalActive']]\n",
    "#Y = df_new['Total Key']\n",
    "#lm = LinearRegression()\n",
    "#lm.fit(X,Y)\n",
    "#lm.score(X, Y)"
   ]
  },
  {
   "cell_type": "code",
   "execution_count": null,
   "metadata": {},
   "outputs": [],
   "source": [
    "#X2 = df_new[['TotalActiveBox']]\n",
    "#Y2 = df_new['Total Key']\n",
    "#lm = LinearRegression()\n",
    "#lm.fit(X2,Y2)\n",
    "#lm.score(X2,Y2)"
   ]
  },
  {
   "cell_type": "code",
   "execution_count": null,
   "metadata": {},
   "outputs": [],
   "source": [
    "#features = [\"TotalActiveBox\",\"TotalActive\"]"
   ]
  },
  {
   "cell_type": "code",
   "execution_count": null,
   "metadata": {},
   "outputs": [],
   "source": [
    "#X = df_new[features]\n",
    "#Y = df_new['Total Key']\n",
    "#lm = LinearRegression()\n",
    "#lm.fit(X,Y)\n",
    "#lm.score(X,Y)"
   ]
  },
  {
   "cell_type": "code",
   "execution_count": null,
   "metadata": {},
   "outputs": [],
   "source": [
    "#lm.fit(X,Y)\n"
   ]
  },
  {
   "cell_type": "code",
   "execution_count": null,
   "metadata": {},
   "outputs": [],
   "source": [
    "#df = pd.read_excel('/home/maxtran/Desktop/Data Cấp K.xlsx')"
   ]
  },
  {
   "cell_type": "code",
   "execution_count": null,
   "metadata": {},
   "outputs": [],
   "source": [
    "#df"
   ]
  },
  {
   "cell_type": "code",
   "execution_count": null,
   "metadata": {},
   "outputs": [],
   "source": [
    "#df = df.drop(['TotalActive'],1)"
   ]
  },
  {
   "cell_type": "code",
   "execution_count": null,
   "metadata": {},
   "outputs": [],
   "source": [
    "#df = df.drop(['TotalActiveBox'],1)"
   ]
  },
  {
   "cell_type": "code",
   "execution_count": null,
   "metadata": {},
   "outputs": [],
   "source": [
    "#df.dtypes"
   ]
  },
  {
   "cell_type": "code",
   "execution_count": null,
   "metadata": {},
   "outputs": [],
   "source": [
    "#df.describe"
   ]
  }
 ],
 "metadata": {
  "kernelspec": {
   "display_name": "Python 3",
   "language": "python",
   "name": "python3"
  },
  "language_info": {
   "codemirror_mode": {
    "name": "ipython",
    "version": 3
   },
   "file_extension": ".py",
   "mimetype": "text/x-python",
   "name": "python",
   "nbconvert_exporter": "python",
   "pygments_lexer": "ipython3",
   "version": "3.7.6"
  }
 },
 "nbformat": 4,
 "nbformat_minor": 2
}
